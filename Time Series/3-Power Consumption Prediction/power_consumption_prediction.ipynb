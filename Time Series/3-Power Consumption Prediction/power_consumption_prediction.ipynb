{
 "cells": [
  {
   "cell_type": "markdown",
   "id": "pointed-hughes",
   "metadata": {},
   "source": [
    "# Power Consumption Prediction"
   ]
  },
  {
   "cell_type": "markdown",
   "id": "prime-identity",
   "metadata": {},
   "source": [
    "### Load Dataset"
   ]
  },
  {
   "cell_type": "code",
   "execution_count": null,
   "id": "vietnamese-dallas",
   "metadata": {},
   "outputs": [],
   "source": [
    "import pandas as pd\n",
    "import numpy as np\n",
    "import matplotlib.pyplot as plt\n",
    "%matplotlib inline\n",
    "import seaborn as sns\n",
    "\n",
    "from sklearn.preprocessing import MinMaxScaler\n",
    "from keras.models import Sequential\n",
    "from keras.layers import LSTM, Dense, Dropout"
   ]
  },
  {
   "cell_type": "code",
   "execution_count": null,
   "id": "fallen-leather",
   "metadata": {},
   "outputs": [],
   "source": [
    "df = pd.read_csv('household_power_consumption.txt', sep=';', \n",
    "                 parse_dates={'dt' : ['Date', 'Time']}, infer_datetime_format=True, \n",
    "                 low_memory=False, na_values=['nan','?'], index_col='dt')\n",
    "df.head()"
   ]
  },
  {
   "cell_type": "code",
   "execution_count": null,
   "id": "complimentary-mississippi",
   "metadata": {},
   "outputs": [],
   "source": [
    "df.info()"
   ]
  },
  {
   "cell_type": "code",
   "execution_count": null,
   "id": "threaded-stephen",
   "metadata": {},
   "outputs": [],
   "source": [
    "df.describe()"
   ]
  },
  {
   "cell_type": "markdown",
   "id": "legendary-interface",
   "metadata": {},
   "source": [
    "### Visualization"
   ]
  },
  {
   "cell_type": "code",
   "execution_count": null,
   "id": "incident-element",
   "metadata": {},
   "outputs": [],
   "source": [
    "df['Global_intensity'].resample('D').agg(['mean', 'std']).plot(subplots=True, kind='line', title='Global_intensity resampled over day')\n",
    "plt.show()"
   ]
  },
  {
   "cell_type": "code",
   "execution_count": null,
   "id": "attended-trinidad",
   "metadata": {},
   "outputs": [],
   "source": [
    "df['Global_active_power'].resample('D').agg(['mean', 'std']).plot(subplots=True, kind='line', title='Global_active_power resampled over day')\n",
    "plt.show()"
   ]
  },
  {
   "cell_type": "code",
   "execution_count": null,
   "id": "prescription-tumor",
   "metadata": {},
   "outputs": [],
   "source": [
    "df['Global_reactive_power'].resample('D').agg(['mean', 'std']).plot(subplots=True, kind='line', title='Global_reactive_power resampled over day')\n",
    "plt.show()"
   ]
  },
  {
   "cell_type": "code",
   "execution_count": null,
   "id": "peaceful-insight",
   "metadata": {},
   "outputs": [],
   "source": [
    "plt.figure(figsize=(16,8))\n",
    "df['Global_active_power'].resample('M').mean().plot(kind='bar')\n",
    "plt.xticks(rotation=60)\n",
    "plt.ylabel('Global_active_power')\n",
    "plt.title('Global_active_power per month')\n",
    "plt.show()"
   ]
  },
  {
   "cell_type": "code",
   "execution_count": null,
   "id": "practical-catalog",
   "metadata": {},
   "outputs": [],
   "source": [
    "plt.figure(figsize=(16,8))\n",
    "df['Global_active_power'].resample('Q').mean().plot(kind='bar')\n",
    "plt.xticks(rotation=60)\n",
    "plt.ylabel('Global_active_power')\n",
    "plt.title('Global_active_power per quarter')\n",
    "plt.show()"
   ]
  },
  {
   "cell_type": "code",
   "execution_count": null,
   "id": "artificial-coverage",
   "metadata": {},
   "outputs": [],
   "source": [
    "plt.figure(figsize=(16,8))\n",
    "df['Voltage'].resample('M').mean().plot(kind='bar')\n",
    "plt.xticks(rotation=60)\n",
    "plt.ylabel('Voltage')\n",
    "plt.title('Voltage per month')\n",
    "plt.show()"
   ]
  },
  {
   "cell_type": "code",
   "execution_count": null,
   "id": "coral-interim",
   "metadata": {},
   "outputs": [],
   "source": [
    "def plot_features(v):\n",
    "    cols = [0, 1, 2, 3, 5, 6]\n",
    "    i = 1\n",
    "    values = df.resample(v).mean().values\n",
    "    plt.figure(figsize=(15, 10))\n",
    "    for c in cols:\n",
    "        plt.subplot(len(cols), 1, i)\n",
    "        plt.plot(values[:, c])\n",
    "        plt.title(df.columns[c], y=0.75, loc='right')\n",
    "        i += 1\n",
    "    plt.show()"
   ]
  },
  {
   "cell_type": "code",
   "execution_count": null,
   "id": "pacific-pottery",
   "metadata": {},
   "outputs": [],
   "source": [
    "plot_features('D')"
   ]
  },
  {
   "cell_type": "code",
   "execution_count": null,
   "id": "automatic-arlington",
   "metadata": {},
   "outputs": [],
   "source": [
    "plot_features('M')"
   ]
  },
  {
   "cell_type": "code",
   "execution_count": null,
   "id": "fallen-ambassador",
   "metadata": {},
   "outputs": [],
   "source": [
    "plot_features('Q')"
   ]
  },
  {
   "cell_type": "code",
   "execution_count": null,
   "id": "accompanied-ministry",
   "metadata": {},
   "outputs": [],
   "source": [
    "df['Global_active_power'].resample('W').mean().plot(color='r', legend=True)\n",
    "df['Global_reactive_power'].resample('W').mean().plot(color='b', legend=True)\n",
    "df['Global_intensity'].resample('W').mean().plot(color='g', legend=True)\n",
    "df['Sub_metering_1'].resample('W').mean().plot(color='y', legend=True)\n",
    "plt.title(\"Weekly Mean\")\n",
    "plt.show()\n"
   ]
  },
  {
   "cell_type": "code",
   "execution_count": null,
   "id": "fossil-fraud",
   "metadata": {},
   "outputs": [],
   "source": [
    "df['Global_active_power'].resample('W').mean().plot(kind='hist', color='r', legend=True)\n",
    "df['Global_reactive_power'].resample('W').mean().plot(kind='hist', color='b', legend=True)\n",
    "df['Global_intensity'].resample('W').mean().plot(kind='hist', color='g', legend=True)\n",
    "df['Sub_metering_1'].resample('W').mean().plot(kind='hist', color='y', legend=True)\n",
    "plt.title(\"Monthly Mean\")\n",
    "plt.show()"
   ]
  },
  {
   "cell_type": "code",
   "execution_count": null,
   "id": "rapid-condition",
   "metadata": {},
   "outputs": [],
   "source": [
    "plt.figure(figsize=(8,6))\n",
    "sns.heatmap(df.corr(), annot=True, fmt= '.2f')"
   ]
  },
  {
   "cell_type": "code",
   "execution_count": null,
   "id": "diagnostic-friday",
   "metadata": {},
   "outputs": [],
   "source": [
    "plt.figure(figsize=(8,6))\n",
    "sns.heatmap(df.resample('M').mean().corr(), annot=True, fmt= '.2f')"
   ]
  },
  {
   "cell_type": "code",
   "execution_count": null,
   "id": "surprising-server",
   "metadata": {
    "scrolled": true
   },
   "outputs": [],
   "source": [
    "plt.figure(figsize=(8,6))\n",
    "sns.heatmap(df.resample('A').mean().corr(), annot=True, fmt= '.2f')"
   ]
  },
  {
   "cell_type": "markdown",
   "id": "frozen-drama",
   "metadata": {},
   "source": [
    "### Preprocess"
   ]
  },
  {
   "cell_type": "code",
   "execution_count": null,
   "id": "moral-perth",
   "metadata": {},
   "outputs": [],
   "source": [
    "def series_to_supervised(data):\n",
    "    n_vars = 1 if type(data) is list else data.shape[1]\n",
    "    df = pd.DataFrame(data)\n",
    "    cols, names = [], []\n",
    "    for i in range(1, 0, -1):\n",
    "        cols.append(df.shift(i))\n",
    "        names += [('var%d(t-%d)' % (j+1, i)) for j in range(n_vars)]\n",
    "    for i in range(0, 1):\n",
    "        cols.append(df.shift(-i))\n",
    "        if i == 0:\n",
    "            names += [('var%d(t)' % (j+1)) for j in range(n_vars)]\n",
    "    concat = pd.concat(cols, axis=1)\n",
    "    concat.columns = names\n",
    "    concat.dropna(inplace=True)\n",
    "    return concat"
   ]
  },
  {
   "cell_type": "code",
   "execution_count": null,
   "id": "occupied-athletics",
   "metadata": {},
   "outputs": [],
   "source": [
    "df_h = df.resample('h').mean() \n",
    "df_h.shape"
   ]
  },
  {
   "cell_type": "code",
   "execution_count": null,
   "id": "joint-honduras",
   "metadata": {},
   "outputs": [],
   "source": [
    "scaler = MinMaxScaler(feature_range=(0,1))\n",
    "data = scaler.fit_transform(df_h.values)\n",
    "\n",
    "new_df = series_to_supervised(data)"
   ]
  },
  {
   "cell_type": "code",
   "execution_count": null,
   "id": "compressed-miami",
   "metadata": {},
   "outputs": [],
   "source": [
    "new_df.head()"
   ]
  },
  {
   "cell_type": "code",
   "execution_count": null,
   "id": "extended-scoop",
   "metadata": {},
   "outputs": [],
   "source": [
    "new_df.drop(new_df.columns[[8,9,10,11,12,13]], axis=1, inplace=True)"
   ]
  },
  {
   "cell_type": "code",
   "execution_count": null,
   "id": "certain-gasoline",
   "metadata": {},
   "outputs": [],
   "source": [
    "new_df.head()"
   ]
  },
  {
   "cell_type": "code",
   "execution_count": null,
   "id": "optimum-shark",
   "metadata": {},
   "outputs": [],
   "source": [
    "X = new_df.drop(['var1(t)'], axis=1)\n",
    "y = new_df['var1(t)']\n",
    "\n",
    "split_time = 365*24\n",
    "X_train = X[:split_time]\n",
    "y_train = y[:split_time]\n",
    "X_test = X[split_time:]\n",
    "y_test = y[split_time:]"
   ]
  },
  {
   "cell_type": "code",
   "execution_count": null,
   "id": "civic-criticism",
   "metadata": {},
   "outputs": [],
   "source": [
    "X_train = np.array(X_train)\n",
    "X_train = np.reshape(X_train, (X_train.shape[0], X_train.shape[1], 1))\n",
    "X_test = np.array(X_test)\n",
    "X_test = np.reshape(X_test, (X_test.shape[0], X_test.shape[1], 1))"
   ]
  },
  {
   "cell_type": "markdown",
   "id": "detected-mobile",
   "metadata": {},
   "source": [
    "### Training"
   ]
  },
  {
   "cell_type": "code",
   "execution_count": null,
   "id": "thermal-humanity",
   "metadata": {
    "scrolled": true
   },
   "outputs": [],
   "source": [
    "model = Sequential()\n",
    "model.add(LSTM(100, return_sequences=True, input_shape=(X_train.shape[1], 1)))\n",
    "model.add(Dropout(0.2))\n",
    "model.add(LSTM(50, return_sequences=True))\n",
    "model.add(Dropout(0.2))\n",
    "model.add(LSTM(50))\n",
    "model.add(Dropout(0.2))\n",
    "model.add(Dense(1))\n",
    "\n",
    "model.compile(loss='mean_squared_error', optimizer='adam')\n",
    "\n",
    "history = model.fit(X_train, y_train, validation_data=(X_test, y_test), epochs=50, batch_size=16)"
   ]
  },
  {
   "cell_type": "markdown",
   "id": "transsexual-digest",
   "metadata": {},
   "source": [
    "### Evaluation"
   ]
  },
  {
   "cell_type": "code",
   "execution_count": null,
   "id": "satellite-distance",
   "metadata": {},
   "outputs": [],
   "source": [
    "plt.plot(history.history['loss'])\n",
    "plt.plot(history.history['val_loss'])\n",
    "plt.title('Model Loss')\n",
    "plt.ylabel('Loss')\n",
    "plt.xlabel('Epoch')\n",
    "plt.legend(['Train', 'Test'], loc='upper right')\n",
    "plt.show()"
   ]
  },
  {
   "cell_type": "code",
   "execution_count": null,
   "id": "durable-blind",
   "metadata": {},
   "outputs": [],
   "source": [
    "pred = model.predict(X_test)\n",
    "pred = np.concatenate((pred, X_test[:, -6:, 0]), axis=1)\n",
    "pred = scaler.inverse_transform(pred)\n",
    "pred = pred[:, 0]\n",
    "\n",
    "y_test = np.array(y_test).reshape((len(y_test), 1))\n",
    "y_test = np.concatenate((y_test, X_test[:, -6:, 0]), axis=1)\n",
    "y_test = scaler.inverse_transform(y_test)\n",
    "y_test = y_test[:,0]"
   ]
  },
  {
   "cell_type": "code",
   "execution_count": null,
   "id": "spanish-muscle",
   "metadata": {},
   "outputs": [],
   "source": [
    "rms = np.sqrt(np.mean(np.power((pred-y_test), 2)))\n",
    "print(rms)"
   ]
  },
  {
   "cell_type": "code",
   "execution_count": null,
   "id": "compatible-satisfaction",
   "metadata": {},
   "outputs": [],
   "source": [
    "aa = [x for x in range(500)]\n",
    "plt.figure(figsize=(16,6))\n",
    "plt.plot(aa, y_test[:500], marker='.', label=\"actual\")\n",
    "plt.plot(aa, pred[:500], 'r', label=\"prediction\")\n",
    "plt.ylabel('Global_active_power')\n",
    "plt.xlabel('Time')\n",
    "plt.legend()\n",
    "plt.show()"
   ]
  },
  {
   "cell_type": "code",
   "execution_count": null,
   "id": "illegal-sunrise",
   "metadata": {},
   "outputs": [],
   "source": [
    "'''\n",
    "Inspiration\n",
    "1. https://www.kaggle.com/amirrezaeian/time-series-data-analysis-using-lstm-tutorial\n",
    "'''"
   ]
  }
 ],
 "metadata": {
  "kernelspec": {
   "display_name": "Python 3",
   "language": "python",
   "name": "python3"
  },
  "language_info": {
   "codemirror_mode": {
    "name": "ipython",
    "version": 3
   },
   "file_extension": ".py",
   "mimetype": "text/x-python",
   "name": "python",
   "nbconvert_exporter": "python",
   "pygments_lexer": "ipython3",
   "version": "3.6.13"
  }
 },
 "nbformat": 4,
 "nbformat_minor": 5
}
