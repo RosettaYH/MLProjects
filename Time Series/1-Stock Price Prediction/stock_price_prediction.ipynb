{
 "cells": [
  {
   "cell_type": "markdown",
   "id": "bright-pencil",
   "metadata": {},
   "source": [
    "# Stock Price Prediction"
   ]
  },
  {
   "cell_type": "markdown",
   "id": "joint-jefferson",
   "metadata": {},
   "source": [
    "### Load Dataset"
   ]
  },
  {
   "cell_type": "code",
   "execution_count": null,
   "id": "eastern-lobby",
   "metadata": {},
   "outputs": [],
   "source": [
    "import pandas as pd\n",
    "import numpy as np\n",
    "import matplotlib.pyplot as plt\n",
    "%matplotlib inline\n",
    "import math \n",
    "import pandas_datareader as web\n",
    "from sklearn.preprocessing import MinMaxScaler\n",
    "\n",
    "from keras.models import Sequential\n",
    "from keras.layers import LSTM, Dense, Dropout"
   ]
  },
  {
   "cell_type": "code",
   "execution_count": null,
   "id": "resistant-soldier",
   "metadata": {},
   "outputs": [],
   "source": [
    "df = web.DataReader('AAPL', data_source='yahoo', start='2016-03-01', end='2021-01-01')\n",
    "df.head()"
   ]
  },
  {
   "cell_type": "code",
   "execution_count": null,
   "id": "vocational-interview",
   "metadata": {},
   "outputs": [],
   "source": [
    "df.shape"
   ]
  },
  {
   "cell_type": "code",
   "execution_count": null,
   "id": "tamil-renewal",
   "metadata": {},
   "outputs": [],
   "source": [
    "plt.figure(figsize=(16,8))\n",
    "plt.plot(df[\"Close\"])\n",
    "plt.title('Close Price Data')\n",
    "plt.xlabel('Time')\n",
    "plt.ylabel('Close Price USD ($)')\n",
    "plt.show()"
   ]
  },
  {
   "cell_type": "markdown",
   "id": "impressed-psychiatry",
   "metadata": {},
   "source": [
    "### Preprocess"
   ]
  },
  {
   "cell_type": "code",
   "execution_count": null,
   "id": "premier-sarah",
   "metadata": {},
   "outputs": [],
   "source": [
    "close_data = df.filter([\"Close\"])\n",
    "dataset = close_data.values\n",
    "train_data_len = math.ceil(len(dataset) * 0.8)"
   ]
  },
  {
   "cell_type": "code",
   "execution_count": null,
   "id": "raising-injection",
   "metadata": {},
   "outputs": [],
   "source": [
    "scaler = MinMaxScaler(feature_range=(0,1))\n",
    "scaled_data = scaler.fit_transform(dataset)"
   ]
  },
  {
   "cell_type": "code",
   "execution_count": null,
   "id": "numerous-louisville",
   "metadata": {},
   "outputs": [],
   "source": [
    "# Train data\n",
    "train_data = scaled_data[:train_data_len, :]\n",
    "x_train, y_train = [], []\n",
    "\n",
    "for i in range(60, len(train_data)):\n",
    "    x_train.append(train_data[i-60:i, 0])\n",
    "    y_train.append(train_data[i, 0])\n",
    "    \n",
    "x_train, y_train = np.array(x_train), np.array(y_train)\n",
    "x_train = np.reshape(x_train, (x_train.shape[0], x_train.shape[1], 1))\n",
    "\n",
    "# Test data\n",
    "test_data = scaled_data[train_data_len-60:, :]\n",
    "x_test = []\n",
    "y_test = dataset[train_data_len:, :]\n",
    "\n",
    "for i in range(60, len(test_data)):\n",
    "    x_test.append(test_data[i-60:i, 0])\n",
    "    \n",
    "x_test = np.array(x_test)\n",
    "x_test = np.reshape(x_test, (x_test.shape[0], x_test.shape[1], 1))"
   ]
  },
  {
   "cell_type": "markdown",
   "id": "athletic-three",
   "metadata": {},
   "source": [
    "### Training"
   ]
  },
  {
   "cell_type": "code",
   "execution_count": null,
   "id": "touched-astronomy",
   "metadata": {
    "scrolled": true
   },
   "outputs": [],
   "source": [
    "model = Sequential()\n",
    "model.add(LSTM(50, return_sequences=True, input_shape=(x_train.shape[1], 1)))\n",
    "model.add(Dropout(0.2))\n",
    "model.add(LSTM(50, return_sequences=True))\n",
    "model.add(Dropout(0.2))\n",
    "model.add(LSTM(50, return_sequences=True))\n",
    "model.add(Dropout(0.2))\n",
    "model.add(LSTM(50))\n",
    "model.add(Dropout(0.2))\n",
    "model.add(Dense(1))\n",
    "\n",
    "model.compile(loss='mean_squared_error', optimizer='adam')\n",
    "\n",
    "model.fit(x_train, y_train, epochs=10, batch_size=16)\n",
    "\n",
    "# model.save('spp_model.hdf5')"
   ]
  },
  {
   "cell_type": "markdown",
   "id": "alive-dakota",
   "metadata": {},
   "source": [
    "### Evaluation"
   ]
  },
  {
   "cell_type": "code",
   "execution_count": null,
   "id": "painted-regular",
   "metadata": {},
   "outputs": [],
   "source": [
    "pred = model.predict(x_test)\n",
    "pred = scaler.inverse_transform(pred)"
   ]
  },
  {
   "cell_type": "code",
   "execution_count": null,
   "id": "ideal-associate",
   "metadata": {},
   "outputs": [],
   "source": [
    "rms=np.sqrt(np.mean(np.power((pred-y_test), 2)))\n",
    "print(rms)"
   ]
  },
  {
   "cell_type": "code",
   "execution_count": null,
   "id": "smooth-platinum",
   "metadata": {},
   "outputs": [],
   "source": [
    "train = close_data[:train_data_len]\n",
    "valid = close_data[train_data_len:]\n",
    "valid['Predictions'] = pred\n",
    "plt.figure(figsize=(16,8))\n",
    "plt.plot(train[\"Close\"])\n",
    "plt.plot(valid[['Close', \"Predictions\"]])\n",
    "plt.title('Close Price Predictions')\n",
    "plt.xlabel('Time')\n",
    "plt.ylabel('Close Price USD ($)')\n",
    "plt.legend(['Train', 'Val', 'Predictions'])\n",
    "plt.show()"
   ]
  },
  {
   "cell_type": "markdown",
   "id": "iraqi-calvin",
   "metadata": {},
   "source": [
    "### Predictions"
   ]
  },
  {
   "cell_type": "code",
   "execution_count": null,
   "id": "synthetic-attack",
   "metadata": {},
   "outputs": [],
   "source": [
    "df_pred = web.DataReader('AAPL', data_source='yahoo', start='2016-03-01', end='2021-05-01')\n",
    "df_pred.head()"
   ]
  },
  {
   "cell_type": "code",
   "execution_count": null,
   "id": "satisfied-contract",
   "metadata": {},
   "outputs": [],
   "source": [
    "last_60_days = df_pred.filter([\"Close\"])[-60:]\n",
    "last_60_days_data = last_60_days.values\n",
    "last_60_days = scaler.transform(last_60_days_data)\n",
    "x_last_60_test = [last_60_days]\n",
    "x_last_60_test = np.array(x_last_60_test)\n",
    "x_last_60_test = np.reshape(x_last_60_test, (x_last_60_test.shape[0], x_last_60_test.shape[1], 1))\n",
    "\n",
    "pred_last_60 = model.predict(x_last_60_test)\n",
    "pred_last_60 = scaler.inverse_transform(pred_last_60)"
   ]
  },
  {
   "cell_type": "code",
   "execution_count": null,
   "id": "obvious-albuquerque",
   "metadata": {},
   "outputs": [],
   "source": [
    "# Compare \n",
    "last_date = df_pred[-1:].index[0]\n",
    "df_real = web.DataReader('AAPL', data_source='yahoo', start=last_date, end=last_date)\n",
    "print(f\"prediction: {pred_last_60[0][0]}, actual: {df_real['Close'][0]}\")"
   ]
  },
  {
   "cell_type": "code",
   "execution_count": null,
   "id": "described-ecuador",
   "metadata": {},
   "outputs": [],
   "source": [
    "'''\n",
    "Inspiration\n",
    "1. https://youtu.be/QIUxPv5PJOY\n",
    "'''"
   ]
  }
 ],
 "metadata": {
  "kernelspec": {
   "display_name": "Python 3",
   "language": "python",
   "name": "python3"
  },
  "language_info": {
   "codemirror_mode": {
    "name": "ipython",
    "version": 3
   },
   "file_extension": ".py",
   "mimetype": "text/x-python",
   "name": "python",
   "nbconvert_exporter": "python",
   "pygments_lexer": "ipython3",
   "version": "3.6.13"
  }
 },
 "nbformat": 4,
 "nbformat_minor": 5
}
