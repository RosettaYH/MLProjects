{
 "cells": [
  {
   "cell_type": "markdown",
   "id": "dangerous-worthy",
   "metadata": {},
   "source": [
    "# Air Passengers Forecast"
   ]
  },
  {
   "cell_type": "markdown",
   "id": "herbal-runner",
   "metadata": {},
   "source": [
    "### Load Dataset"
   ]
  },
  {
   "cell_type": "code",
   "execution_count": null,
   "id": "twelve-broadway",
   "metadata": {},
   "outputs": [],
   "source": [
    "import pandas as pd\n",
    "import numpy as np\n",
    "import matplotlib.pyplot as plt\n",
    "%matplotlib inline\n",
    "\n",
    "import math\n",
    "from statsmodels.tsa.stattools import adfuller, acf, pacf\n",
    "from statsmodels.tsa.arima_model import ARIMA"
   ]
  },
  {
   "cell_type": "code",
   "execution_count": null,
   "id": "alpha-copyright",
   "metadata": {},
   "outputs": [],
   "source": [
    "df = pd.read_csv(\"AirPassengers.csv\")\n",
    "df.head()"
   ]
  },
  {
   "cell_type": "code",
   "execution_count": null,
   "id": "square-montana",
   "metadata": {},
   "outputs": [],
   "source": [
    "df['Month'] = pd.to_datetime(df['Month'], infer_datetime_format=True)\n",
    "df = df.set_index(['Month'])\n",
    "df.head()"
   ]
  },
  {
   "cell_type": "markdown",
   "id": "homeless-position",
   "metadata": {},
   "source": [
    "### Visualization"
   ]
  },
  {
   "cell_type": "code",
   "execution_count": null,
   "id": "naval-leone",
   "metadata": {},
   "outputs": [],
   "source": [
    "plt.xlabel('Month')\n",
    "plt.ylabel('Number of Air Passengers')\n",
    "plt.plot(df['#Passengers'])"
   ]
  },
  {
   "cell_type": "code",
   "execution_count": null,
   "id": "baking-prefix",
   "metadata": {},
   "outputs": [],
   "source": [
    "def test_stationarity(ts):\n",
    "    rol_mean = ts.rolling(window=52,center=False).mean() \n",
    "    rol_std = ts.rolling(window=52,center=False).std()\n",
    "\n",
    "    orig = plt.plot(ts, label='Original')\n",
    "    mean = plt.plot(rol_mean, color='red', label='Rolling Mean')\n",
    "    std = plt.plot(rol_std, color='black', label='Rolling Std')\n",
    "    plt.legend(loc='best')\n",
    "    plt.title('Rolling Mean & Standard Deviation')\n",
    "    plt.show(block=False)\n",
    "    \n",
    "    test_df = adfuller(ts, autolag='AIC')\n",
    "    output_df = pd.Series(test_df[0:4], index=['Test Statistic','p-value','#Lags Used','Number of Observations Used'])\n",
    "    for k, v in test_df[4].items():\n",
    "        output_df['Critical Value (%s)'%k] = v\n",
    "    print('Results of Dickey-Fuller Test:')\n",
    "    print(output_df)"
   ]
  },
  {
   "cell_type": "code",
   "execution_count": null,
   "id": "educated-boating",
   "metadata": {},
   "outputs": [],
   "source": [
    "test_stationarity(df['#Passengers'])"
   ]
  },
  {
   "cell_type": "markdown",
   "id": "smart-inspector",
   "metadata": {},
   "source": [
    "### Preprocess - Transformation"
   ]
  },
  {
   "cell_type": "code",
   "execution_count": null,
   "id": "persistent-craft",
   "metadata": {},
   "outputs": [],
   "source": [
    "new_df = df.copy()\n",
    "new_df['#Passengers'] = df['#Passengers'].apply(lambda x: math.log(x)).diff(1)\n",
    "new_df = new_df.rolling(2).mean()\n",
    "new_df.dropna(inplace=True)\n",
    "test_stationarity(new_df['#Passengers'])"
   ]
  },
  {
   "cell_type": "code",
   "execution_count": null,
   "id": "brown-outline",
   "metadata": {},
   "outputs": [],
   "source": [
    "lag_acf = acf(new_df, nlags=20)\n",
    "lag_pacf = pacf(new_df, nlags=20, method='ols')\n",
    "\n",
    "plt.subplot(121)\n",
    "plt.plot(lag_acf)\n",
    "plt.axhline(y=0, linestyle='--', color='gray')\n",
    "plt.axhline(y=-1.96/np.sqrt(len(new_df)), linestyle='--', color='gray')\n",
    "plt.axhline(y=1.96/np.sqrt(len(new_df)), linestyle='--', color='gray')\n",
    "plt.title('Autocorrelation Function')            \n",
    "\n",
    "plt.subplot(122)\n",
    "plt.plot(lag_pacf)\n",
    "plt.axhline(y=0, linestyle='--', color='gray')\n",
    "plt.axhline(y=-1.96/np.sqrt(len(new_df)), linestyle='--', color='gray')\n",
    "plt.axhline(y=1.96/np.sqrt(len(new_df)), linestyle='--', color='gray')\n",
    "plt.title('Partial Autocorrelation Function')\n",
    "plt.tight_layout()            "
   ]
  },
  {
   "cell_type": "markdown",
   "id": "featured-clark",
   "metadata": {},
   "source": [
    "### Model Training + Evaluation"
   ]
  },
  {
   "cell_type": "code",
   "execution_count": null,
   "id": "violent-timer",
   "metadata": {},
   "outputs": [],
   "source": [
    "model = ARIMA(np.log(df), order=(1, 1, 0))  \n",
    "model = model.fit(disp=-1)\n",
    "model.summary()"
   ]
  },
  {
   "cell_type": "code",
   "execution_count": null,
   "id": "worth-copying",
   "metadata": {},
   "outputs": [],
   "source": [
    "plt.plot(new_df)\n",
    "plt.plot(model.fittedvalues, color='red')\n",
    "plt.title('RSS: %.4f'% sum((model.fittedvalues[1:]-new_df['#Passengers'])**2))"
   ]
  },
  {
   "cell_type": "markdown",
   "id": "transparent-paste",
   "metadata": {},
   "source": [
    "### Prediction & Reverse Transformations"
   ]
  },
  {
   "cell_type": "code",
   "execution_count": null,
   "id": "anonymous-tract",
   "metadata": {},
   "outputs": [],
   "source": [
    "pred = pd.Series(model.fittedvalues, copy=True)\n",
    "print(pred.head())\n",
    "\n",
    "pred_cumsum = pred.cumsum()\n",
    "print(pred_cumsum.head())\n",
    "\n",
    "pred_log = pd.Series(np.log(df)['#Passengers'].iloc[0], index=np.log(df).index)\n",
    "pred_log = pred_log.add(pred_cumsum, fill_value=0)\n",
    "print(pred_log.head())"
   ]
  },
  {
   "cell_type": "code",
   "execution_count": null,
   "id": "sapphire-freight",
   "metadata": {},
   "outputs": [],
   "source": [
    "y_pred = np.exp(pred_log)\n",
    "plt.plot(df['#Passengers'])\n",
    "plt.plot(y_pred)\n",
    "plt.title('RMSE: %.4f'% np.sqrt(sum((y_pred-df['#Passengers'])**2)/len(df['#Passengers'])))"
   ]
  },
  {
   "cell_type": "code",
   "execution_count": null,
   "id": "understood-bunch",
   "metadata": {},
   "outputs": [],
   "source": [
    "model.plot_predict(1, 240)\n",
    "plt.show()"
   ]
  },
  {
   "cell_type": "code",
   "execution_count": null,
   "id": "biological-cornell",
   "metadata": {},
   "outputs": [],
   "source": [
    "'''\n",
    "Inspiration\n",
    "1. https://github.com/harishkandan/Air-passengers-time-series-forecasting\n",
    "'''"
   ]
  }
 ],
 "metadata": {
  "kernelspec": {
   "display_name": "Python 3",
   "language": "python",
   "name": "python3"
  },
  "language_info": {
   "codemirror_mode": {
    "name": "ipython",
    "version": 3
   },
   "file_extension": ".py",
   "mimetype": "text/x-python",
   "name": "python",
   "nbconvert_exporter": "python",
   "pygments_lexer": "ipython3",
   "version": "3.6.13"
  }
 },
 "nbformat": 4,
 "nbformat_minor": 5
}
