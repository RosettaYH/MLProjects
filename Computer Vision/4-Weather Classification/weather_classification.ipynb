{
 "cells": [
  {
   "cell_type": "markdown",
   "id": "expanded-antique",
   "metadata": {},
   "source": [
    "# Weather Classification"
   ]
  },
  {
   "cell_type": "markdown",
   "id": "coordinated-infrared",
   "metadata": {},
   "source": [
    "### Load Dataset"
   ]
  },
  {
   "cell_type": "code",
   "execution_count": null,
   "id": "numerical-holocaust",
   "metadata": {},
   "outputs": [],
   "source": [
    "import pandas as pd\n",
    "import numpy as np\n",
    "import matplotlib.pyplot as plt\n",
    "%matplotlib inline\n",
    "\n",
    "import os\n",
    "import random\n",
    "from shutil import copyfile\n",
    "\n",
    "from keras.preprocessing.image import ImageDataGenerator\n",
    "from keras.models import Model\n",
    "from keras.applications.inception_v3 import InceptionV3\n",
    "from keras.optimizers import SGD\n",
    "from keras.layers import GlobalAveragePooling2D, Dense, Dropout\n",
    "\n",
    "from keras.preprocessing.image import load_img, img_to_array\n",
    "from sklearn.metrics import log_loss"
   ]
  },
  {
   "cell_type": "code",
   "execution_count": null,
   "id": "heavy-crawford",
   "metadata": {},
   "outputs": [],
   "source": [
    "weather_classes = ['cloudy', 'foggy', 'rainy', 'shine', 'sunrise']"
   ]
  },
  {
   "cell_type": "code",
   "execution_count": null,
   "id": "approximate-devil",
   "metadata": {},
   "outputs": [],
   "source": [
    "def prepare_data(src, weather_class):\n",
    "    files = []\n",
    "    dir_src = os.path.join(src, weather_class)\n",
    "    for filename in os.listdir(dir_src):\n",
    "        file = os.path.join(dir_src, filename)\n",
    "        if os.path.getsize(file) > 0:\n",
    "            files.append(filename)\n",
    "        else:\n",
    "            print(filename + \" is zero length, so ignoring.\")\n",
    "\n",
    "    training_length = int(len(files) * 0.8)\n",
    "    shuffled_set = random.sample(files, len(files))\n",
    "    training_set = shuffled_set[0:training_length]\n",
    "    validation_set = shuffled_set[training_length:]\n",
    "\n",
    "    for filename in training_set:\n",
    "        this_file = os.path.join(dir_src, filename)\n",
    "        destination = os.path.join(src, 'train', weather_class, filename)\n",
    "        copyfile(this_file, destination)\n",
    "\n",
    "    for filename in validation_set:\n",
    "        this_file = os.path.join(dir_src, filename)\n",
    "        destination = os.path.join(src, 'val', weather_class, filename)\n",
    "        copyfile(this_file, destination)"
   ]
  },
  {
   "cell_type": "code",
   "execution_count": null,
   "id": "introductory-classroom",
   "metadata": {},
   "outputs": [],
   "source": [
    "src = 'dataset'\n",
    "training_dir = os.path.join(src, 'train')\n",
    "validation_dir = os.path.join(src, 'val')\n",
    "os.mkdir(training_dir)\n",
    "os.mkdir(validation_dir)\n",
    "\n",
    "for w in weather_classes:\n",
    "    os.mkdir(os.path.join(training_dir, w))\n",
    "    os.mkdir(os.path.join(validation_dir, w))\n",
    "    prepare_data(src, w)\n",
    "print('Done')"
   ]
  },
  {
   "cell_type": "markdown",
   "id": "rolled-duncan",
   "metadata": {},
   "source": [
    "### Visualization"
   ]
  },
  {
   "cell_type": "code",
   "execution_count": null,
   "id": "extraordinary-nickname",
   "metadata": {},
   "outputs": [],
   "source": [
    "num_imgs = {}\n",
    "for w in weather_classes:\n",
    "    num_imgs[w] = len(os.listdir(os.path.join(training_dir, w)))\n",
    "plt.figure(figsize=(9,6))\n",
    "plt.bar(range(len(num_imgs)), list(num_imgs.values()), align='center')\n",
    "plt.xticks(range(len(num_imgs)), list(num_imgs.keys()))\n",
    "plt.title('Distribution in Training Dataset')\n",
    "plt.show()"
   ]
  },
  {
   "cell_type": "code",
   "execution_count": null,
   "id": "published-pledge",
   "metadata": {},
   "outputs": [],
   "source": [
    "num_imgs = {}\n",
    "for w in weather_classes:\n",
    "    num_imgs[w] = len(os.listdir(os.path.join(validation_dir, w)))\n",
    "plt.figure(figsize=(9,6))\n",
    "plt.bar(range(len(num_imgs)), list(num_imgs.values()), align='center')\n",
    "plt.xticks(range(len(num_imgs)), list(num_imgs.keys()))\n",
    "plt.title('Distribution in Validation Dataset')\n",
    "plt.show()"
   ]
  },
  {
   "cell_type": "markdown",
   "id": "unusual-device",
   "metadata": {},
   "source": [
    "### Preprocess"
   ]
  },
  {
   "cell_type": "code",
   "execution_count": null,
   "id": "sustained-catalyst",
   "metadata": {},
   "outputs": [],
   "source": [
    "training_datagen = ImageDataGenerator(\n",
    "    rescale=1./255,\n",
    "    rotation_range=40,\n",
    "    width_shift_range=0.2,\n",
    "    height_shift_range=0.2,\n",
    "    shear_range=0.2,\n",
    "    zoom_range=0.2,\n",
    "    horizontal_flip=True,\n",
    "    fill_mode='nearest')\n",
    "\n",
    "validation_datagen = ImageDataGenerator(rescale=1./255)\n",
    "\n",
    "training_generator = training_datagen.flow_from_directory(\n",
    "    training_dir,\n",
    "    target_size=(150,150),\n",
    "    batch_size=32,\n",
    "    class_mode='categorical')\n",
    "\n",
    "validation_generator = validation_datagen.flow_from_directory(\n",
    "    validation_dir,\n",
    "    target_size=(150,150),\n",
    "    batch_size=32,\n",
    "    class_mode='categorical')"
   ]
  },
  {
   "cell_type": "markdown",
   "id": "innovative-fountain",
   "metadata": {},
   "source": [
    "### Training"
   ]
  },
  {
   "cell_type": "code",
   "execution_count": null,
   "id": "casual-rocket",
   "metadata": {},
   "outputs": [],
   "source": [
    "inception = InceptionV3(weights='imagenet', include_top=False)\n",
    "x = inception.output\n",
    "x = GlobalAveragePooling2D()(x)\n",
    "x = Dense(64, activation='relu')(x)\n",
    "x = Dropout(0.2)(x)\n",
    "\n",
    "predictions = Dense(5, activation='softmax')(x)\n",
    "\n",
    "model = Model(inputs=inception.input, outputs=predictions)\n",
    "model.compile(optimizer=SGD(lr=0.0001, momentum=0.9), loss='categorical_crossentropy', metrics=['accuracy'])\n",
    "\n",
    "history = model.fit_generator(\n",
    "    training_generator,\n",
    "    steps_per_epoch=1200//32,\n",
    "    validation_data=validation_generator, \n",
    "    validation_steps=300//32,\n",
    "    epochs=30)"
   ]
  },
  {
   "cell_type": "markdown",
   "id": "institutional-ground",
   "metadata": {},
   "source": [
    "### Evaluation"
   ]
  },
  {
   "cell_type": "code",
   "execution_count": null,
   "id": "removable-affairs",
   "metadata": {},
   "outputs": [],
   "source": [
    "plt.plot(history.history['acc'])\n",
    "plt.plot(history.history['val_acc'])\n",
    "plt.title('Model Accuracy')\n",
    "plt.ylabel('Accuracy')\n",
    "plt.xlabel('Epoch')\n",
    "plt.legend(['Train', 'Val'], loc='upper left')\n",
    "plt.show()\n",
    "\n",
    "plt.plot(history.history['loss'])\n",
    "plt.plot(history.history['val_loss'])\n",
    "plt.title('Model Loss')\n",
    "plt.ylabel('Loss')\n",
    "plt.xlabel('Epoch')\n",
    "plt.legend(['Train', 'Val'], loc='upper left')\n",
    "plt.show()"
   ]
  },
  {
   "cell_type": "code",
   "execution_count": null,
   "id": "extreme-canyon",
   "metadata": {},
   "outputs": [],
   "source": [
    "def preprocess_image(path):\n",
    "    img = load_img(path, target_size=(150, 150))\n",
    "    img = img_to_array(img)                    \n",
    "    img = np.expand_dims(img, axis=0)         \n",
    "    img /= 255.\n",
    "    return img\n",
    "\n",
    "test_df = pd.read_csv('dataset/test.csv')\n",
    "test_ids = [str(i) for i in test_df['Image_id'].tolist()]\n",
    "\n",
    "test_imgs = [os.path.join('dataset/test', i) for i in test_ids]\n",
    "test_imgs = np.vstack([preprocess_image(i) for i in test_imgs])\n",
    "\n",
    "y_test = test_df['labels']\n",
    "y_pred = model.predict(test_imgs, batch_size=1, verbose=1)\n",
    "\n",
    "loss = log_loss(y_test, y_pred, eps=1e-15, normalize=True, sample_weight=None, labels=None)\n",
    "print(loss)"
   ]
  },
  {
   "cell_type": "code",
   "execution_count": null,
   "id": "intended-background",
   "metadata": {},
   "outputs": [],
   "source": [
    "'''\n",
    "Inspiration\n",
    "1. https://github.com/vijayg15/Keras-MultiClass-Image-Classification\n",
    "'''"
   ]
  }
 ],
 "metadata": {
  "kernelspec": {
   "display_name": "Python 3",
   "language": "python",
   "name": "python3"
  },
  "language_info": {
   "codemirror_mode": {
    "name": "ipython",
    "version": 3
   },
   "file_extension": ".py",
   "mimetype": "text/x-python",
   "name": "python",
   "nbconvert_exporter": "python",
   "pygments_lexer": "ipython3",
   "version": "3.6.13"
  }
 },
 "nbformat": 4,
 "nbformat_minor": 5
}
