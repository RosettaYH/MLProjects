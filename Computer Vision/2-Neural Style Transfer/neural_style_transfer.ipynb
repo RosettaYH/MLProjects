{
 "cells": [
  {
   "cell_type": "markdown",
   "id": "facial-redhead",
   "metadata": {},
   "source": [
    "# Neural Style Transfer"
   ]
  },
  {
   "cell_type": "code",
   "execution_count": null,
   "id": "behind-spelling",
   "metadata": {},
   "outputs": [],
   "source": [
    "import numpy as np\n",
    "import matplotlib.pyplot as plt\n",
    "%matplotlib inline\n",
    "\n",
    "from PIL import Image\n",
    "import time\n",
    "import IPython.display\n",
    "\n",
    "import tensorflow as tf\n",
    "from tensorflow.keras.preprocessing import image as kp_image\n",
    "from tensorflow.keras.applications.vgg19 import preprocess_input, VGG19\n",
    "from tensorflow.keras import models \n",
    "from tensorflow.keras import losses\n",
    "from tensorflow.keras import layers\n",
    "from tensorflow.keras import backend as K"
   ]
  },
  {
   "cell_type": "code",
   "execution_count": null,
   "id": "foreign-newton",
   "metadata": {},
   "outputs": [],
   "source": [
    "tf.enable_eager_execution()\n",
    "print(\"Eager execution: {}\".format(tf.executing_eagerly()))"
   ]
  },
  {
   "cell_type": "markdown",
   "id": "mediterranean-peninsula",
   "metadata": {},
   "source": [
    "### Preprocess"
   ]
  },
  {
   "cell_type": "code",
   "execution_count": null,
   "id": "lyric-foster",
   "metadata": {},
   "outputs": [],
   "source": [
    "def load_img(path_to_img):\n",
    "    max_dim = 512\n",
    "    img = Image.open(path_to_img)\n",
    "    long = max(img.size)\n",
    "    scale = max_dim/long\n",
    "    img = img.resize((round(img.size[0]*scale), round(img.size[1]*scale)), Image.ANTIALIAS)\n",
    "\n",
    "    img = kp_image.img_to_array(img)\n",
    "    img = np.expand_dims(img, axis=0)\n",
    "    return img"
   ]
  },
  {
   "cell_type": "code",
   "execution_count": null,
   "id": "blank-complexity",
   "metadata": {},
   "outputs": [],
   "source": [
    "def load_and_process_img(path_to_img):\n",
    "    img = load_img(path_to_img)\n",
    "    img = preprocess_input(img)\n",
    "    return img"
   ]
  },
  {
   "cell_type": "code",
   "execution_count": null,
   "id": "biblical-breed",
   "metadata": {},
   "outputs": [],
   "source": [
    "def deprocess_img(processed_img):\n",
    "    x = processed_img.copy()\n",
    "    if len(x.shape) == 4:\n",
    "        x = np.squeeze(x, 0)\n",
    "    assert len(x.shape) == 3, (\"Input to deprocess image must be an image of \"\n",
    "                             \"dimension [1, height, width, channel] or [height, width, channel]\")\n",
    "    if len(x.shape) != 3:\n",
    "        raise ValueError(\"Invalid input to deprocessing image\")\n",
    "\n",
    "    x[:, :, 0] += 103.939\n",
    "    x[:, :, 1] += 116.779\n",
    "    x[:, :, 2] += 123.68\n",
    "    x = x[:, :, ::-1]\n",
    "\n",
    "    x = np.clip(x, 0, 255).astype('uint8')\n",
    "    return x"
   ]
  },
  {
   "cell_type": "markdown",
   "id": "nervous-dress",
   "metadata": {},
   "source": [
    "### Model"
   ]
  },
  {
   "cell_type": "code",
   "execution_count": null,
   "id": "together-broadway",
   "metadata": {},
   "outputs": [],
   "source": [
    "# Content layer\n",
    "content_layers = ['block5_conv2'] \n",
    "\n",
    "# Style layers\n",
    "style_layers = ['block1_conv1',\n",
    "                'block2_conv1',\n",
    "                'block3_conv1', \n",
    "                'block4_conv1', \n",
    "                'block5_conv1']"
   ]
  },
  {
   "cell_type": "code",
   "execution_count": null,
   "id": "bound-terrorism",
   "metadata": {},
   "outputs": [],
   "source": [
    "def get_model():\n",
    "    vgg = VGG19(include_top=False, weights='imagenet')\n",
    "    vgg.trainable = False\n",
    "\n",
    "    style_outputs = [vgg.get_layer(name).output for name in style_layers]\n",
    "    content_outputs = [vgg.get_layer(name).output for name in content_layers]\n",
    "    model_outputs = style_outputs + content_outputs\n",
    "\n",
    "    return models.Model(vgg.input, model_outputs)"
   ]
  },
  {
   "cell_type": "markdown",
   "id": "warming-center",
   "metadata": {},
   "source": [
    "### Loss Functions"
   ]
  },
  {
   "cell_type": "code",
   "execution_count": null,
   "id": "difficult-occasions",
   "metadata": {},
   "outputs": [],
   "source": [
    "def get_content_loss(base_content, target):\n",
    "    return tf.reduce_mean(tf.square(base_content - target))\n",
    "\n",
    "def gram_matrix(input_tensor):\n",
    "    channels = int(input_tensor.shape[-1])\n",
    "    a = tf.reshape(input_tensor, [-1, channels])\n",
    "    n = tf.shape(a)[0]\n",
    "    gram = tf.matmul(a, a, transpose_a=True)\n",
    "    return gram / tf.cast(n, tf.float32)\n",
    "\n",
    "def get_style_loss(base_style, gram_target):\n",
    "    height, width, channels = base_style.get_shape().as_list()\n",
    "    gram_style = gram_matrix(base_style)\n",
    "    return tf.reduce_mean(tf.square(gram_style - gram_target))"
   ]
  },
  {
   "cell_type": "code",
   "execution_count": null,
   "id": "supported-giant",
   "metadata": {},
   "outputs": [],
   "source": [
    "def get_feature_representations(model, content_path, style_path):\n",
    "    content_image = load_and_process_img(content_path)\n",
    "    style_image = load_and_process_img(style_path)\n",
    "\n",
    "    style_outputs = model(style_image)\n",
    "    content_outputs = model(content_image)\n",
    "\n",
    "    style_features = [style_layer[0] for style_layer in style_outputs[:len(style_layers)]]\n",
    "    content_features = [content_layer[0] for content_layer in content_outputs[len(style_layers):]]\n",
    "    return style_features, content_features"
   ]
  },
  {
   "cell_type": "code",
   "execution_count": null,
   "id": "fifteen-emergency",
   "metadata": {},
   "outputs": [],
   "source": [
    "def compute_loss(model, loss_weights, init_image, gram_style_features, content_features):\n",
    "    style_weight, content_weight = loss_weights\n",
    "\n",
    "    model_outputs = model(init_image)\n",
    "  \n",
    "    style_output_features = model_outputs[:len(style_layers)]\n",
    "    content_output_features = model_outputs[len(style_layers):]\n",
    "\n",
    "    style_score = 0\n",
    "    content_score = 0\n",
    "\n",
    "    weight_per_style_layer = 1.0 / float(len(style_layers))\n",
    "    for target_style, comb_style in zip(gram_style_features, style_output_features):\n",
    "        style_score += weight_per_style_layer * get_style_loss(comb_style[0], target_style)\n",
    "\n",
    "    weight_per_content_layer = 1.0 / float(len(content_layers))\n",
    "    for target_content, comb_content in zip(content_features, content_output_features):\n",
    "        content_score += weight_per_content_layer* get_content_loss(comb_content[0], target_content)\n",
    "\n",
    "    style_score *= style_weight\n",
    "    content_score *= content_weight\n",
    "    loss = style_score + content_score \n",
    "    \n",
    "    return loss, style_score, content_score"
   ]
  },
  {
   "cell_type": "code",
   "execution_count": null,
   "id": "motivated-lambda",
   "metadata": {},
   "outputs": [],
   "source": [
    "def compute_grads(cfg):\n",
    "    with tf.GradientTape() as tape: \n",
    "        all_loss = compute_loss(**cfg)\n",
    "    total_loss = all_loss[0]\n",
    "    return tape.gradient(total_loss, cfg['init_image']), all_loss"
   ]
  },
  {
   "cell_type": "markdown",
   "id": "aging-chemical",
   "metadata": {},
   "source": [
    "### Style Transfer"
   ]
  },
  {
   "cell_type": "code",
   "execution_count": null,
   "id": "proved-tragedy",
   "metadata": {},
   "outputs": [],
   "source": [
    "def run_style_transfer(content_path, style_path, num_iterations=1000, content_weight=1e3, style_weight=1e-2): \n",
    "    model = get_model() \n",
    "    for layer in model.layers:\n",
    "        layer.trainable = False\n",
    "\n",
    "    style_features, content_features = get_feature_representations(model, content_path, style_path)\n",
    "    gram_style_features = [gram_matrix(style_feature) for style_feature in style_features]\n",
    "\n",
    "    init_image = load_and_process_img(content_path)\n",
    "    init_image = tf.Variable(init_image, dtype=tf.float32)\n",
    "    opt = tf.train.AdamOptimizer(learning_rate=5, beta1=0.99, epsilon=1e-1)\n",
    "    iter_count = 1\n",
    "    best_loss, best_img = float('inf'), None\n",
    "\n",
    "    loss_weights = (style_weight, content_weight)\n",
    "    cfg = {\n",
    "      'model': model,\n",
    "      'loss_weights': loss_weights,\n",
    "      'init_image': init_image,\n",
    "      'gram_style_features': gram_style_features,\n",
    "      'content_features': content_features\n",
    "    }\n",
    "\n",
    "    num_rows = 2\n",
    "    num_cols = 5\n",
    "    display_interval = num_iterations/(num_rows*num_cols)\n",
    "    start_time = time.time()\n",
    "    global_start = time.time()\n",
    "\n",
    "    norm_means = np.array([103.939, 116.779, 123.68])\n",
    "    min_vals = -norm_means\n",
    "    max_vals = 255 - norm_means   \n",
    "\n",
    "    imgs = []\n",
    "    \n",
    "    for i in range(num_iterations):\n",
    "        grads, all_loss = compute_grads(cfg)\n",
    "        loss, style_score, content_score = all_loss\n",
    "        opt.apply_gradients([(grads, init_image)])\n",
    "        clipped = tf.clip_by_value(init_image, min_vals, max_vals)\n",
    "        init_image.assign(clipped)\n",
    "        end_time = time.time() \n",
    "\n",
    "        if loss < best_loss:\n",
    "            best_loss = loss\n",
    "            best_img = deprocess_img(init_image.numpy())\n",
    "\n",
    "        if i % display_interval== 0:\n",
    "            start_time = time.time()\n",
    "            plot_img = init_image.numpy()\n",
    "            plot_img = deprocess_img(plot_img)\n",
    "            imgs.append(plot_img)\n",
    "            IPython.display.clear_output(wait=True)\n",
    "            IPython.display.display_png(Image.fromarray(plot_img))\n",
    "            print('Iteration: {}'.format(i))        \n",
    "            print('Total loss: {:.4e}, ' \n",
    "                'style loss: {:.4e}, '\n",
    "                'content loss: {:.4e}, '\n",
    "                'time: {:.4f}s'.format(loss, style_score, content_score, time.time() - start_time))\n",
    "    print('Total time: {:.4f}s'.format(time.time() - global_start))\n",
    "    IPython.display.clear_output(wait=True)\n",
    "    \n",
    "    plt.figure(figsize=(14,4))\n",
    "    for i,img in enumerate(imgs):\n",
    "        plt.subplot(num_rows,num_cols,i+1)\n",
    "        plt.imshow(img)\n",
    "        plt.xticks([])\n",
    "        plt.yticks([])\n",
    "\n",
    "    return best_img, best_loss "
   ]
  },
  {
   "cell_type": "markdown",
   "id": "foreign-charter",
   "metadata": {},
   "source": [
    "### Outputs"
   ]
  },
  {
   "cell_type": "code",
   "execution_count": null,
   "id": "formal-worth",
   "metadata": {},
   "outputs": [],
   "source": [
    "content_path = 'content.jpg'\n",
    "style_path = 'style.jpg'\n",
    "\n",
    "best, best_loss = run_style_transfer(content_path, style_path, num_iterations=1000)"
   ]
  },
  {
   "cell_type": "code",
   "execution_count": null,
   "id": "mysterious-edmonton",
   "metadata": {},
   "outputs": [],
   "source": [
    "plt.figure(figsize=(10, 5))\n",
    "content = load_img(content_path) \n",
    "style = load_img(style_path)\n",
    "\n",
    "plt.subplot(1, 2, 1)\n",
    "imshow(content, 'Content Image')\n",
    "\n",
    "plt.subplot(1, 2, 2)\n",
    "imshow(style, 'Style Image')\n",
    "\n",
    "plt.figure(figsize=(10, 10))\n",
    "plt.imshow(best)\n",
    "plt.title('Output Image')\n",
    "plt.show()"
   ]
  },
  {
   "cell_type": "code",
   "execution_count": null,
   "id": "encouraging-counter",
   "metadata": {},
   "outputs": [],
   "source": [
    "'''\n",
    "Inspiration\n",
    "1. https://medium.com/tensorflow/neural-style-transfer-creating-art-with-deep-learning-using-tf-keras-and-eager-execution-7d541ac31398\n",
    "'''"
   ]
  }
 ],
 "metadata": {
  "kernelspec": {
   "display_name": "Python 3",
   "language": "python",
   "name": "python3"
  },
  "language_info": {
   "codemirror_mode": {
    "name": "ipython",
    "version": 3
   },
   "file_extension": ".py",
   "mimetype": "text/x-python",
   "name": "python",
   "nbconvert_exporter": "python",
   "pygments_lexer": "ipython3",
   "version": "3.6.13"
  }
 },
 "nbformat": 4,
 "nbformat_minor": 5
}
