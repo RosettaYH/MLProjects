{
 "cells": [
  {
   "cell_type": "markdown",
   "id": "binary-pantyhose",
   "metadata": {},
   "source": [
    "# Lane Detection"
   ]
  },
  {
   "cell_type": "code",
   "execution_count": null,
   "id": "valuable-appliance",
   "metadata": {},
   "outputs": [],
   "source": [
    "import pandas as pd\n",
    "import numpy as np\n",
    "import matplotlib.pyplot as plt\n",
    "%matplotlib inline\n",
    "import cv2"
   ]
  },
  {
   "cell_type": "code",
   "execution_count": null,
   "id": "apparent-messenger",
   "metadata": {},
   "outputs": [],
   "source": [
    "def canny_edge_detector(frame):\n",
    "    gray = cv2.cvtColor(frame, cv2.COLOR_RGB2GRAY)\n",
    "    blur = cv2.GaussianBlur(gray, (5, 5), 0)\n",
    "    canny = cv2.Canny(blur, 50, 150)\n",
    "    return canny  "
   ]
  },
  {
   "cell_type": "code",
   "execution_count": null,
   "id": "allied-instrument",
   "metadata": {},
   "outputs": [],
   "source": [
    "def ROI_mask(img):\n",
    "    h = img.shape[0]\n",
    "    w = img.shape[1] \n",
    "    poly = np.array([[(0, h), (round(w/2), round(h/2)), (1000, h)]]) \n",
    "    \n",
    "    mask = np.zeros_like(img) \n",
    "    cv2.fillPoly(mask, poly, 255) \n",
    "    masked_img = cv2.bitwise_and(img, mask)\n",
    "    return masked_img"
   ]
  },
  {
   "cell_type": "code",
   "execution_count": null,
   "id": "working-bridge",
   "metadata": {},
   "outputs": [],
   "source": [
    "def get_coordinates(img, params):  \n",
    "    m, y_int = params \n",
    "    y1 = img.shape[0]     \n",
    "    y2 = int(y1 * (3/5))\n",
    "    x1 = int((y1 - y_int) / m)\n",
    "    x2 = int((y2 - y_int) / m) \n",
    "    \n",
    "    return np.array([x1, y1, x2, y2])"
   ]
  },
  {
   "cell_type": "code",
   "execution_count": null,
   "id": "decreased-talent",
   "metadata": {},
   "outputs": [],
   "source": [
    "def avg_lines(img, lines): \n",
    "    \n",
    "    left = [] \n",
    "    right = [] \n",
    "    \n",
    "    for l in lines: \n",
    "        x1, y1, x2, y2 = l.reshape(4)\n",
    "        params = np.polyfit((x1, x2), (y1, y2), 1)  \n",
    "        m = params[0] \n",
    "        y_int = params[1] \n",
    "        \n",
    "        if m < 0: \n",
    "            left.append((m, y_int)) # Negative slope = left lane\n",
    "        else: \n",
    "            right.append((m, y_int)) # Positive slope = right lane\n",
    "        \n",
    "    left_avg = np.average(left, axis=0) \n",
    "    right_avg = np.average(right, axis=0) \n",
    "    left_line = get_coordinates(img, left_avg) \n",
    "    right_line = get_coordinates(img, right_avg)\n",
    "    \n",
    "    return np.array([left_line, right_line])"
   ]
  },
  {
   "cell_type": "code",
   "execution_count": null,
   "id": "senior-recycling",
   "metadata": {},
   "outputs": [],
   "source": [
    "def combine_imgs(img, lines, thickness): \n",
    "    print(lines)\n",
    "    \n",
    "    line_img = np.zeros_like(img)\n",
    "    \n",
    "    if lines is not None: \n",
    "        for x1, y1, x2, y2 in lines:\n",
    "            cv2.line(line_img, (x1, y1), (x2, y2),  [0, 0, 255] , thickness)\n",
    "\n",
    "    combined_img = cv2.addWeighted(img, 0.8, line_img, 1.0, 0.0)\n",
    "    \n",
    "    return combined_img\n"
   ]
  },
  {
   "cell_type": "markdown",
   "id": "scientific-customer",
   "metadata": {},
   "source": [
    "### Load Image"
   ]
  },
  {
   "cell_type": "code",
   "execution_count": null,
   "id": "sized-annex",
   "metadata": {},
   "outputs": [],
   "source": [
    "img = cv2.imread(\"frame.png\")\n",
    "plt.figure()\n",
    "plt.imshow(cv2.cvtColor(img, cv2.COLOR_BGR2RGB))"
   ]
  },
  {
   "cell_type": "markdown",
   "id": "choice-bible",
   "metadata": {},
   "source": [
    "### Edge Detection"
   ]
  },
  {
   "cell_type": "code",
   "execution_count": null,
   "id": "alpha-cinema",
   "metadata": {},
   "outputs": [],
   "source": [
    "canny_edges_img = canny_edge_detector(img)\n",
    "plt.figure()\n",
    "plt.imshow(cv2.cvtColor(canny_edges_img, cv2.COLOR_BGR2RGB))\n",
    "plt.show()"
   ]
  },
  {
   "cell_type": "markdown",
   "id": "absolute-director",
   "metadata": {},
   "source": [
    "### Region of Interest "
   ]
  },
  {
   "cell_type": "code",
   "execution_count": null,
   "id": "stylish-participant",
   "metadata": {},
   "outputs": [],
   "source": [
    "roi_img = ROI_mask(canny_edges_img)\n",
    "plt.figure()\n",
    "plt.imshow(cv2.cvtColor(roi_img, cv2.COLOR_BGR2RGB))\n",
    "plt.show()"
   ]
  },
  {
   "cell_type": "markdown",
   "id": "accompanied-compensation",
   "metadata": {},
   "source": [
    "### Prediction"
   ]
  },
  {
   "cell_type": "code",
   "execution_count": null,
   "id": "consistent-shame",
   "metadata": {},
   "outputs": [],
   "source": [
    "lines = cv2.HoughLinesP(\n",
    "    roi_img,\n",
    "    rho=2,\n",
    "    theta=np.pi/180,\n",
    "    threshold=100,\n",
    "    lines=np.array([]),\n",
    "    minLineLength=40,\n",
    "    maxLineGap=25 \n",
    ")\n",
    "\n",
    "line_img = avg_lines(img, lines) \n",
    "combined_img = combine_imgs(img, line_img, 5)\n",
    "plt.figure()\n",
    "plt.imshow(cv2.cvtColor(combined_img, cv2.COLOR_BGR2RGB))\n",
    "plt.show()"
   ]
  },
  {
   "cell_type": "code",
   "execution_count": null,
   "id": "suffering-comfort",
   "metadata": {},
   "outputs": [],
   "source": [
    "'''\n",
    "Inspiration\n",
    "1. https://github.com/d-misra/Lane-detection-opencv-python\n",
    "'''"
   ]
  }
 ],
 "metadata": {
  "kernelspec": {
   "display_name": "Python 3",
   "language": "python",
   "name": "python3"
  },
  "language_info": {
   "codemirror_mode": {
    "name": "ipython",
    "version": 3
   },
   "file_extension": ".py",
   "mimetype": "text/x-python",
   "name": "python",
   "nbconvert_exporter": "python",
   "pygments_lexer": "ipython3",
   "version": "3.6.13"
  }
 },
 "nbformat": 4,
 "nbformat_minor": 5
}
