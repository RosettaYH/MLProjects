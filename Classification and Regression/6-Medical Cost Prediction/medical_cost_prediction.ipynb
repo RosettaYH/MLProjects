{
 "cells": [
  {
   "cell_type": "markdown",
   "id": "touched-depth",
   "metadata": {},
   "source": [
    "# Medical Cost Prediction"
   ]
  },
  {
   "cell_type": "markdown",
   "id": "continued-schema",
   "metadata": {},
   "source": [
    "### Load Dataset"
   ]
  },
  {
   "cell_type": "code",
   "execution_count": null,
   "id": "accurate-allah",
   "metadata": {},
   "outputs": [],
   "source": [
    "import pandas as pd\n",
    "import numpy as np\n",
    "import matplotlib.pyplot as plt\n",
    "%matplotlib inline\n",
    "import seaborn as sns\n",
    "\n",
    "from sklearn.preprocessing import LabelEncoder\n",
    "from sklearn.model_selection import train_test_split\n",
    "from sklearn.linear_model import LinearRegression\n",
    "from sklearn.ensemble import RandomForestRegressor\n",
    "from sklearn.metrics import r2_score"
   ]
  },
  {
   "cell_type": "code",
   "execution_count": null,
   "id": "polyphonic-martin",
   "metadata": {},
   "outputs": [],
   "source": [
    "df = pd.read_csv(\"insurance.csv\")\n",
    "df.head()"
   ]
  },
  {
   "cell_type": "code",
   "execution_count": null,
   "id": "consecutive-thousand",
   "metadata": {},
   "outputs": [],
   "source": [
    "df.describe()"
   ]
  },
  {
   "cell_type": "code",
   "execution_count": null,
   "id": "tracked-helena",
   "metadata": {},
   "outputs": [],
   "source": [
    "df.isnull().sum()"
   ]
  },
  {
   "cell_type": "markdown",
   "id": "fabulous-distinction",
   "metadata": {},
   "source": [
    "### Visualization + Preprocess"
   ]
  },
  {
   "cell_type": "code",
   "execution_count": null,
   "id": "blank-racing",
   "metadata": {},
   "outputs": [],
   "source": [
    "le = LabelEncoder()\n",
    "le.fit(df['sex'].drop_duplicates()) \n",
    "df['sex'] = le.transform(df['sex'])\n",
    "\n",
    "le.fit(df['smoker'].drop_duplicates()) \n",
    "df['smoker'] = le.transform(df['smoker'])\n",
    "\n",
    "le.fit(df['region'].drop_duplicates()) \n",
    "df['region'] = le.transform(df['region'])"
   ]
  },
  {
   "cell_type": "code",
   "execution_count": null,
   "id": "plastic-consumption",
   "metadata": {},
   "outputs": [],
   "source": [
    "f = plt.figure(figsize=(18,5))\n",
    "\n",
    "ax = f.add_subplot(121)\n",
    "sns.distplot(df[(df['smoker'] == 1)]['charges'], color='c', ax=ax)\n",
    "ax.set_title('Distribution of charges for smokers')\n",
    "\n",
    "ax = f.add_subplot(122)\n",
    "sns.distplot(df[(df['smoker'] == 0)]['charges'], color='b', ax=ax)\n",
    "ax.set_title('Distribution of charges for non-smokers')"
   ]
  },
  {
   "cell_type": "code",
   "execution_count": null,
   "id": "structural-journalist",
   "metadata": {},
   "outputs": [],
   "source": [
    "sns.catplot(x='smoker', kind='count', hue='sex', data=df)"
   ]
  },
  {
   "cell_type": "code",
   "execution_count": null,
   "id": "harmful-globe",
   "metadata": {},
   "outputs": [],
   "source": [
    "plt.figure(figsize=(12,5))\n",
    "plt.title('Distribution of age')\n",
    "sns.distplot(df['age'], color='g')"
   ]
  },
  {
   "cell_type": "code",
   "execution_count": null,
   "id": "fundamental-peter",
   "metadata": {},
   "outputs": [],
   "source": [
    "sns.lmplot(x='age', y='charges', hue='smoker', data=df)"
   ]
  },
  {
   "cell_type": "code",
   "execution_count": null,
   "id": "unlimited-toilet",
   "metadata": {},
   "outputs": [],
   "source": [
    "plt.figure(figsize=(12,5))\n",
    "plt.title('Distribution of bmi')\n",
    "sns.distplot(df['bmi'], color='g')"
   ]
  },
  {
   "cell_type": "code",
   "execution_count": null,
   "id": "piano-threat",
   "metadata": {},
   "outputs": [],
   "source": [
    "sns.lmplot(x='bmi', y='charges', hue='smoker', data=df)"
   ]
  },
  {
   "cell_type": "code",
   "execution_count": null,
   "id": "selected-parameter",
   "metadata": {},
   "outputs": [],
   "source": [
    "df.corr()['charges'].sort_values()"
   ]
  },
  {
   "cell_type": "code",
   "execution_count": null,
   "id": "handmade-norman",
   "metadata": {},
   "outputs": [],
   "source": [
    "plt.figure(figsize=(16,12))\n",
    "sns.heatmap(df.corr(), annot=True, fmt= '.2f', cmap='coolwarm_r')"
   ]
  },
  {
   "cell_type": "code",
   "execution_count": null,
   "id": "otherwise-celebration",
   "metadata": {},
   "outputs": [],
   "source": [
    "X = df.drop(['charges'], axis=1)\n",
    "y = df['charges']\n",
    "X_train, X_test, y_train, y_test = train_test_split(X, y, test_size=0.20, random_state=2)"
   ]
  },
  {
   "cell_type": "markdown",
   "id": "separated-intention",
   "metadata": {},
   "source": [
    "### Models Training + Evaluation"
   ]
  },
  {
   "cell_type": "code",
   "execution_count": null,
   "id": "first-basis",
   "metadata": {},
   "outputs": [],
   "source": [
    "models = [\n",
    "    LinearRegression(), \n",
    "    RandomForestRegressor(n_estimators=100, criterion='mse', random_state=1, n_jobs=-1)\n",
    "]\n",
    "\n",
    "for m in models: \n",
    "    m.fit(X_train, y_train)\n",
    "    name = m.__class__.__name__\n",
    "    y_train_pred = m.predict(X_train)\n",
    "    y_test_pred = m.predict(X_test)\n",
    "    acc = r2_score(y_test, y_test_pred)\n",
    "    \n",
    "    print(\"R2 of {}: {}\".format(name, acc))\n",
    "    \n",
    "    plt.figure(figsize=(10,6))\n",
    "    plt.scatter(y_train_pred, y_train_pred-y_train, c='black', marker='o', s=35, alpha=0.5, label='Train data')\n",
    "    plt.scatter(y_test_pred, y_test_pred-y_test, c='m', marker='o', s=35, alpha=0.7, label='Test data')\n",
    "    plt.xlabel('Predicted Values')\n",
    "    plt.ylabel('Tailings')\n",
    "    plt.legend(loc='upper left')\n",
    "    plt.hlines(y=0, xmin=0, xmax=60000, lw=2, color='red')\n",
    "    plt.show()"
   ]
  },
  {
   "cell_type": "code",
   "execution_count": null,
   "id": "compliant-economics",
   "metadata": {},
   "outputs": [],
   "source": [
    "'''\n",
    "Inspiration\n",
    "1. https://www.kaggle.com/hely333/eda-regression\n",
    "'''"
   ]
  }
 ],
 "metadata": {
  "kernelspec": {
   "display_name": "Python 3",
   "language": "python",
   "name": "python3"
  },
  "language_info": {
   "codemirror_mode": {
    "name": "ipython",
    "version": 3
   },
   "file_extension": ".py",
   "mimetype": "text/x-python",
   "name": "python",
   "nbconvert_exporter": "python",
   "pygments_lexer": "ipython3",
   "version": "3.6.13"
  }
 },
 "nbformat": 4,
 "nbformat_minor": 5
}
