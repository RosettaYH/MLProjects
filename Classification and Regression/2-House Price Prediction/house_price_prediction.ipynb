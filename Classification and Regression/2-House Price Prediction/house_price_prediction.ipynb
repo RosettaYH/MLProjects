{
 "cells": [
  {
   "cell_type": "markdown",
   "id": "overall-funds",
   "metadata": {},
   "source": [
    "# House Price Prediction"
   ]
  },
  {
   "cell_type": "markdown",
   "id": "ahead-launch",
   "metadata": {},
   "source": [
    "### Load Dataset"
   ]
  },
  {
   "cell_type": "code",
   "execution_count": null,
   "id": "continent-appointment",
   "metadata": {},
   "outputs": [],
   "source": [
    "import numpy as np\n",
    "import pandas as pd\n",
    "import matplotlib.pyplot as plt\n",
    "%matplotlib inline\n",
    "\n",
    "import seaborn as sns\n",
    "\n",
    "from sklearn.model_selection import train_test_split\n",
    "from sklearn.linear_model import LinearRegression\n",
    "from sklearn.ensemble import GradientBoostingRegressor"
   ]
  },
  {
   "cell_type": "code",
   "execution_count": null,
   "id": "scientific-massachusetts",
   "metadata": {},
   "outputs": [],
   "source": [
    "df = pd.read_csv(\"kc_house_data.csv\")\n",
    "df.head()"
   ]
  },
  {
   "cell_type": "code",
   "execution_count": null,
   "id": "positive-deputy",
   "metadata": {},
   "outputs": [],
   "source": [
    "df.describe()"
   ]
  },
  {
   "cell_type": "code",
   "execution_count": null,
   "id": "divided-amber",
   "metadata": {},
   "outputs": [],
   "source": [
    "df.dropna()"
   ]
  },
  {
   "cell_type": "markdown",
   "id": "african-cancer",
   "metadata": {},
   "source": [
    "### Visualization"
   ]
  },
  {
   "cell_type": "code",
   "execution_count": null,
   "id": "joint-aggregate",
   "metadata": {},
   "outputs": [],
   "source": [
    "df['bedrooms'].value_counts().plot(kind='bar')\n",
    "plt.title('Number of Bedrooms')\n",
    "plt.xlabel('Bedrooms')\n",
    "plt.ylabel('Count')"
   ]
  },
  {
   "cell_type": "code",
   "execution_count": null,
   "id": "inclusive-national",
   "metadata": {},
   "outputs": [],
   "source": [
    "plt.figure(figsize=(10,10))\n",
    "sns.jointplot(x=df[\"lat\"].values, y=df[\"long\"].values, size=10)\n",
    "plt.ylabel('Longitude', fontsize=12)\n",
    "plt.xlabel('Latitude', fontsize=12)\n",
    "plt.show()\n",
    "sns.despine"
   ]
  },
  {
   "cell_type": "code",
   "execution_count": null,
   "id": "gothic-reduction",
   "metadata": {},
   "outputs": [],
   "source": [
    "plt.scatter(df['sqft_living'], df['price'])\n",
    "plt.title(\"Square Feet vs Price\")"
   ]
  },
  {
   "cell_type": "code",
   "execution_count": null,
   "id": "informative-method",
   "metadata": {},
   "outputs": [],
   "source": [
    "plt.scatter(df['lat'], df['price'])\n",
    "plt.title(\"Latitute vs Price\")"
   ]
  },
  {
   "cell_type": "code",
   "execution_count": null,
   "id": "reported-cuisine",
   "metadata": {},
   "outputs": [],
   "source": [
    "plt.scatter(df['long'], df['price'])\n",
    "plt.title(\"Longitude vs Price\")"
   ]
  },
  {
   "cell_type": "code",
   "execution_count": null,
   "id": "eligible-newark",
   "metadata": {},
   "outputs": [],
   "source": [
    "plt.scatter(df['bedrooms'], df['price'])\n",
    "plt.title(\"Bedrooms vs Price\")"
   ]
  },
  {
   "cell_type": "markdown",
   "id": "fossil-garlic",
   "metadata": {},
   "source": [
    "### Preprocess"
   ]
  },
  {
   "cell_type": "code",
   "execution_count": null,
   "id": "confirmed-labor",
   "metadata": {},
   "outputs": [],
   "source": [
    "convert_date = [1 if values == 2014 else 0 for values in df['date']]\n",
    "df['date'] = convert_date\n",
    "X = df.drop(['id', 'price'], axis=1)\n",
    "y = df['price']"
   ]
  },
  {
   "cell_type": "code",
   "execution_count": null,
   "id": "altered-brake",
   "metadata": {},
   "outputs": [],
   "source": [
    "X_train, X_test, y_train, y_test = train_test_split(X, y, test_size=0.20, random_state=2)"
   ]
  },
  {
   "cell_type": "markdown",
   "id": "divine-excuse",
   "metadata": {},
   "source": [
    "### Models Training + Evaluation"
   ]
  },
  {
   "cell_type": "code",
   "execution_count": null,
   "id": "utility-shuttle",
   "metadata": {},
   "outputs": [],
   "source": [
    "reg = LinearRegression()\n",
    "reg.fit(X_train, y_train)"
   ]
  },
  {
   "cell_type": "code",
   "execution_count": null,
   "id": "smaller-plenty",
   "metadata": {},
   "outputs": [],
   "source": [
    "reg.score(X_test, y_test)"
   ]
  },
  {
   "cell_type": "code",
   "execution_count": null,
   "id": "familiar-speed",
   "metadata": {},
   "outputs": [],
   "source": [
    "clf = GradientBoostingRegressor(n_estimators=400, max_depth=5, min_samples_split=2, learning_rate=0.1, loss='ls')\n",
    "clf.fit(X_train, y_train)"
   ]
  },
  {
   "cell_type": "code",
   "execution_count": null,
   "id": "decreased-bowling",
   "metadata": {},
   "outputs": [],
   "source": [
    "clf.score(X_test,y_test)"
   ]
  },
  {
   "cell_type": "code",
   "execution_count": null,
   "id": "federal-skirt",
   "metadata": {},
   "outputs": [],
   "source": [
    "'''\n",
    "Inspiration\n",
    "1. https://towardsdatascience.com/create-a-model-to-predict-house-prices-using-python-d34fe8fad88f\n",
    "'''"
   ]
  }
 ],
 "metadata": {
  "kernelspec": {
   "display_name": "Python 3",
   "language": "python",
   "name": "python3"
  },
  "language_info": {
   "codemirror_mode": {
    "name": "ipython",
    "version": 3
   },
   "file_extension": ".py",
   "mimetype": "text/x-python",
   "name": "python",
   "nbconvert_exporter": "python",
   "pygments_lexer": "ipython3",
   "version": "3.6.13"
  }
 },
 "nbformat": 4,
 "nbformat_minor": 5
}
