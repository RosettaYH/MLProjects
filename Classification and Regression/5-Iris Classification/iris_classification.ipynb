{
 "cells": [
  {
   "cell_type": "markdown",
   "id": "complimentary-twins",
   "metadata": {},
   "source": [
    "# Iris Classification"
   ]
  },
  {
   "cell_type": "markdown",
   "id": "previous-standard",
   "metadata": {},
   "source": [
    "### Load Dataset"
   ]
  },
  {
   "cell_type": "code",
   "execution_count": null,
   "id": "constitutional-mixture",
   "metadata": {},
   "outputs": [],
   "source": [
    "import pandas as pd\n",
    "import numpy as np\n",
    "import matplotlib.pyplot as plt\n",
    "%matplotlib inline\n",
    "import seaborn as sns\n",
    "\n",
    "from sklearn.model_selection import train_test_split\n",
    "from sklearn.svm import SVC\n",
    "from sklearn.ensemble import RandomForestClassifier\n",
    "from sklearn.tree import DecisionTreeClassifier\n",
    "from sklearn.neighbors import KNeighborsClassifier\n",
    "from sklearn.linear_model import LogisticRegression\n",
    "from sklearn.metrics import accuracy_score, classification_report"
   ]
  },
  {
   "cell_type": "code",
   "execution_count": null,
   "id": "fancy-nation",
   "metadata": {},
   "outputs": [],
   "source": [
    "df = pd.read_csv(\"Iris.csv\")\n",
    "df.head()"
   ]
  },
  {
   "cell_type": "code",
   "execution_count": null,
   "id": "fossil-russia",
   "metadata": {},
   "outputs": [],
   "source": [
    "df.describe()"
   ]
  },
  {
   "cell_type": "code",
   "execution_count": null,
   "id": "above-fantasy",
   "metadata": {},
   "outputs": [],
   "source": [
    "df.isnull().sum()"
   ]
  },
  {
   "cell_type": "markdown",
   "id": "copyrighted-teaching",
   "metadata": {},
   "source": [
    "### Visualization"
   ]
  },
  {
   "cell_type": "code",
   "execution_count": null,
   "id": "decent-setting",
   "metadata": {},
   "outputs": [],
   "source": [
    "df['Species'].value_counts()"
   ]
  },
  {
   "cell_type": "code",
   "execution_count": null,
   "id": "molecular-heaven",
   "metadata": {},
   "outputs": [],
   "source": [
    "df.plot(kind='scatter', x='SepalLengthCm', y='SepalWidthCm')"
   ]
  },
  {
   "cell_type": "code",
   "execution_count": null,
   "id": "artificial-brick",
   "metadata": {},
   "outputs": [],
   "source": [
    "sns.jointplot(x='SepalLengthCm', y='SepalWidthCm', data=df, size=5)"
   ]
  },
  {
   "cell_type": "code",
   "execution_count": null,
   "id": "square-louisville",
   "metadata": {},
   "outputs": [],
   "source": [
    "sns.FacetGrid(df, hue='Species', size=8).map(plt.scatter, 'SepalLengthCm', 'SepalWidthCm').add_legend()"
   ]
  },
  {
   "cell_type": "code",
   "execution_count": null,
   "id": "hispanic-aviation",
   "metadata": {},
   "outputs": [],
   "source": [
    "sns.boxplot(x='Species', y='PetalLengthCm', data=df)"
   ]
  },
  {
   "cell_type": "code",
   "execution_count": null,
   "id": "million-liberal",
   "metadata": {},
   "outputs": [],
   "source": [
    "sns.pairplot(df.drop('Id', axis=1), hue='Species')"
   ]
  },
  {
   "cell_type": "code",
   "execution_count": null,
   "id": "viral-helmet",
   "metadata": {},
   "outputs": [],
   "source": [
    "plt.figure(figsize=(8,6))\n",
    "sns.heatmap(df.corr(), annot=True, fmt= '.2f', cmap='coolwarm_r')"
   ]
  },
  {
   "cell_type": "markdown",
   "id": "designing-intent",
   "metadata": {},
   "source": [
    "### Preprocess"
   ]
  },
  {
   "cell_type": "code",
   "execution_count": null,
   "id": "copyrighted-congress",
   "metadata": {},
   "outputs": [],
   "source": [
    "X = df.drop(['Id', 'Species'], axis=1)\n",
    "y = df['Species']\n",
    "X_train, X_test, y_train, y_test = train_test_split(X, y, test_size=0.20, random_state=2)"
   ]
  },
  {
   "cell_type": "markdown",
   "id": "public-fairy",
   "metadata": {},
   "source": [
    "### Models Training + Evaluation"
   ]
  },
  {
   "cell_type": "code",
   "execution_count": null,
   "id": "unlike-filing",
   "metadata": {},
   "outputs": [],
   "source": [
    "models = [\n",
    "    SVC(),\n",
    "    RandomForestClassifier(),\n",
    "    DecisionTreeClassifier(), \n",
    "    KNeighborsClassifier(), \n",
    "    LogisticRegression()\n",
    "]\n",
    "\n",
    "for m in models: \n",
    "    m.fit(X_train, y_train)\n",
    "    name = m.__class__.__name__\n",
    "    y_pred = m.predict(X_test)\n",
    "    acc = accuracy_score(y_test, y_pred)\n",
    "    print(\"Accuracy of {}: {}\".format(name, acc))\n",
    "    print(classification_report(y_test, y_pred))\n",
    "    print('-'*60)"
   ]
  },
  {
   "cell_type": "code",
   "execution_count": null,
   "id": "diverse-volunteer",
   "metadata": {},
   "outputs": [],
   "source": [
    "'''\n",
    "Inspiration\n",
    "1. https://www.kaggle.com/benhamner/python-data-visualizations\n",
    "2. https://www.kaggle.com/ash316/ml-from-scratch-with-iris\n",
    "'''"
   ]
  }
 ],
 "metadata": {
  "kernelspec": {
   "display_name": "Python 3",
   "language": "python",
   "name": "python3"
  },
  "language_info": {
   "codemirror_mode": {
    "name": "ipython",
    "version": 3
   },
   "file_extension": ".py",
   "mimetype": "text/x-python",
   "name": "python",
   "nbconvert_exporter": "python",
   "pygments_lexer": "ipython3",
   "version": "3.6.13"
  }
 },
 "nbformat": 4,
 "nbformat_minor": 5
}
