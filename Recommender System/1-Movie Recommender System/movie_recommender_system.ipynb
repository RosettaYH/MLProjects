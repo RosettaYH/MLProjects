{
 "cells": [
  {
   "cell_type": "markdown",
   "id": "sonic-earth",
   "metadata": {},
   "source": [
    "# Movie Recommender System"
   ]
  },
  {
   "cell_type": "code",
   "execution_count": null,
   "id": "entertaining-romania",
   "metadata": {},
   "outputs": [],
   "source": [
    "import pandas as pd\n",
    "import numpy as np\n",
    "import matplotlib.pyplot as plt\n",
    "%matplotlib inline\n",
    "import seaborn as sns\n",
    "\n",
    "from ast import literal_eval\n",
    "from sklearn.feature_extraction.text import TfidfVectorizer\n",
    "from sklearn.metrics.pairwise import linear_kernel\n",
    "\n",
    "from surprise import Reader, Dataset, SVD\n",
    "from surprise.model_selection import cross_validate"
   ]
  },
  {
   "cell_type": "markdown",
   "id": "sophisticated-hearing",
   "metadata": {},
   "source": [
    "### Simple Recommender \n",
    "Based on popularity"
   ]
  },
  {
   "cell_type": "code",
   "execution_count": null,
   "id": "standing-phenomenon",
   "metadata": {},
   "outputs": [],
   "source": [
    "df = pd.read_csv(\"movies_metadata.csv\")\n",
    "df.head()"
   ]
  },
  {
   "cell_type": "code",
   "execution_count": null,
   "id": "dying-chinese",
   "metadata": {},
   "outputs": [],
   "source": [
    "df.shape"
   ]
  },
  {
   "cell_type": "code",
   "execution_count": null,
   "id": "interesting-peeing",
   "metadata": {},
   "outputs": [],
   "source": [
    "df['genres'] = df['genres'].fillna('[]').apply(literal_eval).apply(lambda x: [i['name'] for i in x] if isinstance(x, list) else [])\n",
    "df['year'] = pd.to_datetime(df['release_date'], errors='coerce').apply(lambda x: str(x).split('-')[0] if x != np.nan else np.nan)"
   ]
  },
  {
   "cell_type": "code",
   "execution_count": null,
   "id": "higher-scoop",
   "metadata": {},
   "outputs": [],
   "source": [
    "def get_recommendations_by_genre(genre, percentile=0.95):\n",
    "    t_df = df\n",
    "    if genre != 'All':\n",
    "        s = t_df.apply(lambda x: pd.Series(x['genres']), axis=1).stack().reset_index(level=1, drop=True)\n",
    "        s.name = 'genre'\n",
    "        t_df = t_df.drop('genres', axis=1).join(s)\n",
    "        t_df = t_df[t_df['genre'] == genre]\n",
    "    vote_counts = t_df[t_df['vote_count'].notnull()]['vote_count'].astype('int')\n",
    "    vote_averages = t_df[t_df['vote_average'].notnull()]['vote_average'].astype('int')\n",
    "    C = vote_averages.mean()\n",
    "    m = vote_counts.quantile(percentile)\n",
    "\n",
    "    cols = ['title', 'year', 'vote_count', 'vote_average', 'popularity']\n",
    "    if genre == 'All':\n",
    "        cols.append('genres')\n",
    "    qualified_df = t_df[(t_df['vote_count'] >= m) & (t_df['vote_count'].notnull()) & (t_df['vote_average'].notnull())][cols]\n",
    "    qualified_df['vote_count'] = qualified_df['vote_count'].astype('int')\n",
    "    qualified_df['vote_average'] = qualified_df['vote_average'].astype('int')\n",
    "\n",
    "    qualified_df['wr'] = qualified_df.apply(lambda x: (x['vote_count']/(x['vote_count']+m) * x['vote_average']) + (m/(m+x['vote_count']) * C), axis=1)\n",
    "    qualified_df = qualified_df.sort_values('wr', ascending=False)\n",
    "    return qualified_df\n"
   ]
  },
  {
   "cell_type": "code",
   "execution_count": null,
   "id": "legal-shelf",
   "metadata": {},
   "outputs": [],
   "source": [
    "get_recommendations_by_genre('All').head(10)"
   ]
  },
  {
   "cell_type": "code",
   "execution_count": null,
   "id": "outside-chinese",
   "metadata": {},
   "outputs": [],
   "source": [
    "get_recommendations_by_genre('Romance', 0.85).head(10)"
   ]
  },
  {
   "cell_type": "markdown",
   "id": "legitimate-sheffield",
   "metadata": {},
   "source": [
    "### Content Based Recommender\n",
    "Based on movie description"
   ]
  },
  {
   "cell_type": "code",
   "execution_count": null,
   "id": "agricultural-technique",
   "metadata": {},
   "outputs": [],
   "source": [
    "links_df = pd.read_csv('links_small.csv')\n",
    "links_df.head()"
   ]
  },
  {
   "cell_type": "code",
   "execution_count": null,
   "id": "positive-chambers",
   "metadata": {},
   "outputs": [],
   "source": [
    "links_df['id'] = links_df[links_df['tmdbId'].notnull()]['tmdbId'].astype('int')\n",
    "links_df.head()"
   ]
  },
  {
   "cell_type": "code",
   "execution_count": null,
   "id": "composed-shooting",
   "metadata": {},
   "outputs": [],
   "source": [
    "df = df.drop([19730, 29503, 35587])\n",
    "df['id'] = df['id'].astype('int')"
   ]
  },
  {
   "cell_type": "code",
   "execution_count": null,
   "id": "billion-excuse",
   "metadata": {},
   "outputs": [],
   "source": [
    "small_df = df[df['id'].isin(links_df['id'])]\n",
    "small_df.head()"
   ]
  },
  {
   "cell_type": "code",
   "execution_count": null,
   "id": "plastic-europe",
   "metadata": {},
   "outputs": [],
   "source": [
    "small_df.shape"
   ]
  },
  {
   "cell_type": "code",
   "execution_count": null,
   "id": "level-burning",
   "metadata": {},
   "outputs": [],
   "source": [
    "small_df['tagline'] = small_df['tagline'].fillna('')\n",
    "small_df['description'] = small_df['overview'] + small_df['tagline']\n",
    "small_df['description'] = small_df['description'].fillna('')"
   ]
  },
  {
   "cell_type": "code",
   "execution_count": null,
   "id": "referenced-valley",
   "metadata": {},
   "outputs": [],
   "source": [
    "small_df = small_df.reset_index()"
   ]
  },
  {
   "cell_type": "code",
   "execution_count": null,
   "id": "suffering-belly",
   "metadata": {},
   "outputs": [],
   "source": [
    "tf = TfidfVectorizer(analyzer='word', ngram_range=(1, 2), min_df=0, stop_words='english')\n",
    "tfidf = tf.fit_transform(small_df['description'])\n",
    "tfidf.shape"
   ]
  },
  {
   "cell_type": "code",
   "execution_count": null,
   "id": "vital-agency",
   "metadata": {},
   "outputs": [],
   "source": [
    "cosine_sim = linear_kernel(tfidf, tfidf)"
   ]
  },
  {
   "cell_type": "code",
   "execution_count": null,
   "id": "hawaiian-event",
   "metadata": {},
   "outputs": [],
   "source": [
    "def get_recommendations_by_movie(title):\n",
    "    idx = small_df.loc[small_df['title'] == title].index[0]\n",
    "    sim_scores = list(enumerate(cosine_sim[idx]))\n",
    "    sim_scores = sorted(sim_scores, key=lambda x: x[1], reverse=True)\n",
    "    sim_scores = sim_scores[1:]\n",
    "    movie_indices = [i[0] for i in sim_scores]\n",
    "    return small_df.loc[movie_indices][['title', 'vote_count', 'vote_average', 'year', 'id']]"
   ]
  },
  {
   "cell_type": "code",
   "execution_count": null,
   "id": "proprietary-burns",
   "metadata": {},
   "outputs": [],
   "source": [
    "get_recommendations_by_movie('The Godfather').head(10)"
   ]
  },
  {
   "cell_type": "code",
   "execution_count": null,
   "id": "worst-politics",
   "metadata": {},
   "outputs": [],
   "source": [
    "get_recommendations_by_movie('The Godfather').head(10)"
   ]
  },
  {
   "cell_type": "code",
   "execution_count": null,
   "id": "auburn-boston",
   "metadata": {},
   "outputs": [],
   "source": [
    "recom_df = get_recommendations_by_movie('The Dark Knight').head(10)\n",
    "recom_df['title']"
   ]
  },
  {
   "cell_type": "markdown",
   "id": "collected-usage",
   "metadata": {},
   "source": [
    "### Collaborative Filtering"
   ]
  },
  {
   "cell_type": "code",
   "execution_count": null,
   "id": "motivated-hamilton",
   "metadata": {},
   "outputs": [],
   "source": [
    "ratings_df = pd.read_csv('ratings_small.csv')\n",
    "ratings_df.head()"
   ]
  },
  {
   "cell_type": "code",
   "execution_count": null,
   "id": "searching-thesis",
   "metadata": {},
   "outputs": [],
   "source": [
    "reader = Reader()\n",
    "data = Dataset.load_from_df(ratings_df[['userId', 'movieId', 'rating']], reader)"
   ]
  },
  {
   "cell_type": "code",
   "execution_count": null,
   "id": "mechanical-complement",
   "metadata": {},
   "outputs": [],
   "source": [
    "svd = SVD()\n",
    "cross_validate(svd, data, measures=['RMSE', 'MAE'], cv=5)"
   ]
  },
  {
   "cell_type": "code",
   "execution_count": null,
   "id": "metropolitan-milwaukee",
   "metadata": {},
   "outputs": [],
   "source": [
    "trainset = data.build_full_trainset()\n",
    "svd.fit(trainset)"
   ]
  },
  {
   "cell_type": "code",
   "execution_count": null,
   "id": "suffering-brooklyn",
   "metadata": {},
   "outputs": [],
   "source": [
    "svd.predict(1, 302, 3)"
   ]
  },
  {
   "cell_type": "markdown",
   "id": "declared-strength",
   "metadata": {},
   "source": [
    "### Hybrid Recommender"
   ]
  },
  {
   "cell_type": "code",
   "execution_count": null,
   "id": "hourly-limitation",
   "metadata": {},
   "outputs": [],
   "source": [
    "id_df = pd.read_csv('links_small.csv')\n",
    "id_df.head()"
   ]
  },
  {
   "cell_type": "code",
   "execution_count": null,
   "id": "oriental-depression",
   "metadata": {},
   "outputs": [],
   "source": [
    "def convert_int(x):\n",
    "    try:\n",
    "        return int(x)\n",
    "    except:\n",
    "        return np.nan"
   ]
  },
  {
   "cell_type": "code",
   "execution_count": null,
   "id": "backed-system",
   "metadata": {},
   "outputs": [],
   "source": [
    "id_df = id_df.drop('imdbId', axis=1)\n",
    "id_df['tmdbId'] = id_df['tmdbId'].apply(convert_int)\n",
    "id_df.columns = ['movieId', 'id']"
   ]
  },
  {
   "cell_type": "code",
   "execution_count": null,
   "id": "large-morning",
   "metadata": {},
   "outputs": [],
   "source": [
    "id_df = id_df.merge(small_df[['title', 'id']], on='id').set_index('title')\n",
    "id_df.head()"
   ]
  },
  {
   "cell_type": "code",
   "execution_count": null,
   "id": "drawn-reputation",
   "metadata": {
    "scrolled": true
   },
   "outputs": [],
   "source": [
    "indices_df = id_df.set_index('id')\n",
    "indices_df.head()"
   ]
  },
  {
   "cell_type": "code",
   "execution_count": null,
   "id": "oriental-ballet",
   "metadata": {},
   "outputs": [],
   "source": [
    "def get_recommendations(userId, title):\n",
    "    idx = small_df.loc[small_df['title'] == title].index[0]\n",
    "    tmdbId = id_df.loc[title]['id']\n",
    "    movie_id = id_df.loc[title]['movieId']\n",
    "    \n",
    "    sim_scores = list(enumerate(cosine_sim[int(idx)]))\n",
    "    sim_scores = sorted(sim_scores, key=lambda x: x[1], reverse=True)\n",
    "    sim_scores = sim_scores[1:26]\n",
    "    movie_indices = [i[0] for i in sim_scores]\n",
    "    \n",
    "    movies = small_df.iloc[movie_indices][['title', 'vote_count', 'vote_average', 'year', 'id']]\n",
    "    movies['estimate'] = movies['id'].apply(lambda x: svd.predict(userId, indices_df.loc[x]['movieId']).est)\n",
    "    movies = movies.sort_values('estimate', ascending=False)\n",
    "    return movies"
   ]
  },
  {
   "cell_type": "code",
   "execution_count": null,
   "id": "entitled-asset",
   "metadata": {},
   "outputs": [],
   "source": [
    "get_recommendations(1, 'The Godfather').head(10)"
   ]
  },
  {
   "cell_type": "code",
   "execution_count": null,
   "id": "numerical-jungle",
   "metadata": {},
   "outputs": [],
   "source": [
    "get_recommendations(1, 'The Dark Knight').head(10)"
   ]
  },
  {
   "cell_type": "code",
   "execution_count": null,
   "id": "fancy-bristol",
   "metadata": {},
   "outputs": [],
   "source": [
    "'''\n",
    "Inspiration\n",
    "1. https://www.kaggle.com/rounakbanik/movie-recommender-systems\n",
    "'''"
   ]
  }
 ],
 "metadata": {
  "kernelspec": {
   "display_name": "Python 3",
   "language": "python",
   "name": "python3"
  },
  "language_info": {
   "codemirror_mode": {
    "name": "ipython",
    "version": 3
   },
   "file_extension": ".py",
   "mimetype": "text/x-python",
   "name": "python",
   "nbconvert_exporter": "python",
   "pygments_lexer": "ipython3",
   "version": "3.6.13"
  }
 },
 "nbformat": 4,
 "nbformat_minor": 5
}
