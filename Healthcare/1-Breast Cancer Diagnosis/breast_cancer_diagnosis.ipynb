{
 "cells": [
  {
   "cell_type": "markdown",
   "id": "suitable-optimization",
   "metadata": {},
   "source": [
    "# Breast Cancer Diagnosis"
   ]
  },
  {
   "cell_type": "markdown",
   "id": "liquid-decrease",
   "metadata": {},
   "source": [
    "### Load Dataset"
   ]
  },
  {
   "cell_type": "code",
   "execution_count": null,
   "id": "answering-recommendation",
   "metadata": {},
   "outputs": [],
   "source": [
    "import pandas as pd\n",
    "import numpy as np\n",
    "import matplotlib.pyplot as plt\n",
    "%matplotlib inline\n",
    "import seaborn as sns\n",
    "\n",
    "from sklearn.preprocessing import LabelEncoder, StandardScaler\n",
    "from sklearn.model_selection import train_test_split\n",
    "from sklearn import linear_model, tree, ensemble\n",
    "from sklearn.metrics import accuracy_score, classification_report"
   ]
  },
  {
   "cell_type": "code",
   "execution_count": null,
   "id": "inappropriate-separate",
   "metadata": {},
   "outputs": [],
   "source": [
    "df = pd.read_csv(\"data.csv\")\n",
    "df.head()"
   ]
  },
  {
   "cell_type": "markdown",
   "id": "wanted-classics",
   "metadata": {},
   "source": [
    "### Visualization"
   ]
  },
  {
   "cell_type": "code",
   "execution_count": null,
   "id": "faced-thirty",
   "metadata": {},
   "outputs": [],
   "source": [
    "df['diagnosis'].value_counts()"
   ]
  },
  {
   "cell_type": "code",
   "execution_count": null,
   "id": "binary-religion",
   "metadata": {},
   "outputs": [],
   "source": [
    "sns.countplot(df['diagnosis'], label='Count') "
   ]
  },
  {
   "cell_type": "code",
   "execution_count": null,
   "id": "communist-combat",
   "metadata": {},
   "outputs": [],
   "source": [
    "sns.pairplot(df.iloc[:, 1:6], hue='diagnosis')"
   ]
  },
  {
   "cell_type": "code",
   "execution_count": null,
   "id": "social-consolidation",
   "metadata": {},
   "outputs": [],
   "source": [
    "plt.figure(figsize=(16,12))\n",
    "sns.heatmap(df.iloc[:, 1:12].corr(), annot=True, fmt= '.2f')"
   ]
  },
  {
   "cell_type": "markdown",
   "id": "broken-reliance",
   "metadata": {},
   "source": [
    "### Preprocess"
   ]
  },
  {
   "cell_type": "code",
   "execution_count": null,
   "id": "enclosed-driver",
   "metadata": {},
   "outputs": [],
   "source": [
    "df.isna().sum()"
   ]
  },
  {
   "cell_type": "code",
   "execution_count": null,
   "id": "practical-journey",
   "metadata": {},
   "outputs": [],
   "source": [
    "df = df.drop(['id', 'Unnamed: 32'], axis=1)"
   ]
  },
  {
   "cell_type": "code",
   "execution_count": null,
   "id": "perceived-short",
   "metadata": {},
   "outputs": [],
   "source": [
    "df.shape"
   ]
  },
  {
   "cell_type": "code",
   "execution_count": null,
   "id": "inner-canberra",
   "metadata": {},
   "outputs": [],
   "source": [
    "label = LabelEncoder()\n",
    "df['diagnosis'] = label.fit_transform(df['diagnosis'])"
   ]
  },
  {
   "cell_type": "code",
   "execution_count": null,
   "id": "drawn-experiment",
   "metadata": {},
   "outputs": [],
   "source": [
    "X = df.drop(['diagnosis'], axis=1)\n",
    "y = df['diagnosis']\n",
    "X_train, X_test, y_train, y_test = train_test_split(X, y, test_size=0.20, random_state=2)"
   ]
  },
  {
   "cell_type": "code",
   "execution_count": null,
   "id": "breathing-acquisition",
   "metadata": {},
   "outputs": [],
   "source": [
    "sc = StandardScaler()\n",
    "X_train = sc.fit_transform(X_train)\n",
    "X_test = sc.transform(X_test)"
   ]
  },
  {
   "cell_type": "markdown",
   "id": "refined-macedonia",
   "metadata": {},
   "source": [
    "### Training"
   ]
  },
  {
   "cell_type": "code",
   "execution_count": null,
   "id": "abandoned-mouth",
   "metadata": {},
   "outputs": [],
   "source": [
    "def models(X_train, y_train):\n",
    "    log = linear_model.LogisticRegression(random_state=0)\n",
    "    log.fit(X_train, y_train)\n",
    "    \n",
    "    tr = tree.DecisionTreeClassifier(criterion='entropy', random_state=0)\n",
    "    tr.fit(X_train, y_train)\n",
    "    \n",
    "    forest = ensemble.RandomForestClassifier(n_estimators=10, criterion='entropy', random_state=0)\n",
    "    forest.fit(X_train, y_train)\n",
    "    \n",
    "    print(\"[0]Logistic Regression Training Accuracy: \", log.score(X_train, y_train))\n",
    "    print(\"[1]Decision Tree Classifier Training Accuracy: \", tr.score(X_train, y_train))\n",
    "    print(\"[2]Random Forest Classifier Training Accuracy: \", forest.score(X_train, y_train))\n",
    "    \n",
    "    return log, tr, forest"
   ]
  },
  {
   "cell_type": "code",
   "execution_count": null,
   "id": "selected-passage",
   "metadata": {},
   "outputs": [],
   "source": [
    "models = models(X_train, y_train)"
   ]
  },
  {
   "cell_type": "markdown",
   "id": "studied-employer",
   "metadata": {},
   "source": [
    "### Evaluation"
   ]
  },
  {
   "cell_type": "code",
   "execution_count": null,
   "id": "satisfactory-march",
   "metadata": {},
   "outputs": [],
   "source": [
    "def eval_model(model):\n",
    "    print(classification_report(y_test, model.predict(X_test)))\n",
    "    print(accuracy_score(y_test, model.predict(X_test)))\n",
    "\n",
    "for m in models:\n",
    "    eval_model(m)"
   ]
  },
  {
   "cell_type": "code",
   "execution_count": null,
   "id": "fewer-channel",
   "metadata": {},
   "outputs": [],
   "source": [
    "'''\n",
    "Inspiration\n",
    "1. https://www.youtube.com/watch?v=NSSOyhJBmWY\n",
    "'''"
   ]
  }
 ],
 "metadata": {
  "kernelspec": {
   "display_name": "Python 3",
   "language": "python",
   "name": "python3"
  },
  "language_info": {
   "codemirror_mode": {
    "name": "ipython",
    "version": 3
   },
   "file_extension": ".py",
   "mimetype": "text/x-python",
   "name": "python",
   "nbconvert_exporter": "python",
   "pygments_lexer": "ipython3",
   "version": "3.6.13"
  }
 },
 "nbformat": 4,
 "nbformat_minor": 5
}
