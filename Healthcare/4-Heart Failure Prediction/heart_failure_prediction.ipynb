{
 "cells": [
  {
   "cell_type": "markdown",
   "id": "charged-vertex",
   "metadata": {},
   "source": [
    "# Heart Failure Prediction"
   ]
  },
  {
   "cell_type": "markdown",
   "id": "million-feedback",
   "metadata": {},
   "source": [
    "### Load Dataset"
   ]
  },
  {
   "cell_type": "code",
   "execution_count": null,
   "id": "twelve-nickel",
   "metadata": {},
   "outputs": [],
   "source": [
    "import pandas as pd\n",
    "import numpy as np\n",
    "import matplotlib.pyplot as plt\n",
    "%matplotlib inline\n",
    "import seaborn as sns\n",
    "import plotly.figure_factory as ff\n",
    "import plotly.graph_objs as go\n",
    "\n",
    "from sklearn.preprocessing import LabelEncoder, StandardScaler\n",
    "from sklearn.model_selection import train_test_split\n",
    "from sklearn.svm import SVC\n",
    "from sklearn.ensemble import GradientBoostingClassifier, RandomForestClassifier\n",
    "from sklearn.tree import DecisionTreeClassifier\n",
    "from sklearn.neighbors import KNeighborsClassifier\n",
    "from sklearn.linear_model import LogisticRegression\n",
    "from sklearn.metrics import accuracy_score, confusion_matrix"
   ]
  },
  {
   "cell_type": "code",
   "execution_count": null,
   "id": "local-grove",
   "metadata": {},
   "outputs": [],
   "source": [
    "df = pd.read_csv(\"data.csv\")\n",
    "df.head()"
   ]
  },
  {
   "cell_type": "code",
   "execution_count": null,
   "id": "accompanied-parcel",
   "metadata": {},
   "outputs": [],
   "source": [
    "df.describe()"
   ]
  },
  {
   "cell_type": "code",
   "execution_count": null,
   "id": "based-opinion",
   "metadata": {},
   "outputs": [],
   "source": [
    "df.isnull().sum()"
   ]
  },
  {
   "cell_type": "markdown",
   "id": "social-crisis",
   "metadata": {},
   "source": [
    "### Visualization"
   ]
  },
  {
   "cell_type": "code",
   "execution_count": null,
   "id": "numerical-uzbekistan",
   "metadata": {},
   "outputs": [],
   "source": [
    "df['DEATH_EVENT'].value_counts()"
   ]
  },
  {
   "cell_type": "code",
   "execution_count": null,
   "id": "alone-webcam",
   "metadata": {},
   "outputs": [],
   "source": [
    "sns.countplot(df['DEATH_EVENT'], label='Count') "
   ]
  },
  {
   "cell_type": "code",
   "execution_count": null,
   "id": "generic-converter",
   "metadata": {},
   "outputs": [],
   "source": [
    "def show_dist_plot(category, name):\n",
    "    surv = df[df['DEATH_EVENT']==0][category]\n",
    "    not_surv = df[df['DEATH_EVENT']==1][category]\n",
    "    hist_data = [surv, not_surv]\n",
    "    labels = ['Survived', 'Not Survived']\n",
    "    fig = ff.create_distplot(hist_data, labels, bin_size=0.5)\n",
    "    fig.update_layout(title_text=\"Analysis on Survival - {}\".format(name))\n",
    "    fig.show()"
   ]
  },
  {
   "cell_type": "code",
   "execution_count": null,
   "id": "comparative-pregnancy",
   "metadata": {},
   "outputs": [],
   "source": [
    "show_dist_plot('serum_sodium', 'Serum Sodium')\n",
    "show_dist_plot('serum_creatinine', 'Serum Creatinine')\n",
    "show_dist_plot('ejection_fraction', 'Ejaction Fraction')"
   ]
  },
  {
   "cell_type": "code",
   "execution_count": null,
   "id": "homeless-retreat",
   "metadata": {},
   "outputs": [],
   "source": [
    "def show_pie_plot(category, name):\n",
    "    y = df[df[category]==1]\n",
    "    n = df[df[category]==0]\n",
    "\n",
    "    y_sur = y[df[\"DEATH_EVENT\"]==0]\n",
    "    y_no = y[df[\"DEATH_EVENT\"]==1]\n",
    "    n_sur = n[df[\"DEATH_EVENT\"]==0]\n",
    "    n_no = n[df[\"DEATH_EVENT\"]==1]\n",
    "\n",
    "    labels = ['{} Yes - Survived'.format(name),'{} Yes - Not Survived'.format(name), \n",
    "              '{} NO - Survived'.format(name), '{} NO - Not Survived'.format(name)]\n",
    "    values = [len(y_sur), len(y_no), len(n_sur), len(n_no)]\n",
    "    fig = go.Figure(data=[go.Pie(labels=labels, values=values, hole=.4)])\n",
    "    fig.update_layout(title_text=\"Analysis on Survival - {}\".format(name))\n",
    "    fig.show()"
   ]
  },
  {
   "cell_type": "code",
   "execution_count": null,
   "id": "nasty-majority",
   "metadata": {},
   "outputs": [],
   "source": [
    "show_pie_plot('diabetes', 'Diabetes')\n",
    "show_pie_plot('anaemia', 'Anaemia')\n",
    "show_pie_plot('high_blood_pressure', 'HBP')\n",
    "show_pie_plot('smoking', 'Smoking')"
   ]
  },
  {
   "cell_type": "code",
   "execution_count": null,
   "id": "mexican-intro",
   "metadata": {},
   "outputs": [],
   "source": [
    "plt.figure(figsize=(16,12))\n",
    "sns.heatmap(df.corr(), annot=True, fmt= '.2f', cmap='coolwarm_r')"
   ]
  },
  {
   "cell_type": "markdown",
   "id": "focused-passion",
   "metadata": {},
   "source": [
    "### Preprocess"
   ]
  },
  {
   "cell_type": "code",
   "execution_count": null,
   "id": "silver-primary",
   "metadata": {},
   "outputs": [],
   "source": [
    "Features = ['time', 'ejection_fraction', 'serum_creatinine']\n",
    "X = df[Features]\n",
    "y = df[\"DEATH_EVENT\"]\n",
    "\n",
    "X_train, X_test, y_train, y_test = train_test_split(X, y, test_size=0.20, random_state=2)"
   ]
  },
  {
   "cell_type": "markdown",
   "id": "quarterly-playing",
   "metadata": {},
   "source": [
    "### Models Training + Evaluation"
   ]
  },
  {
   "cell_type": "code",
   "execution_count": null,
   "id": "signal-queen",
   "metadata": {},
   "outputs": [],
   "source": [
    "models = [\n",
    "    SVC(),\n",
    "    GradientBoostingClassifier(),\n",
    "    RandomForestClassifier(),\n",
    "    DecisionTreeClassifier(), \n",
    "    KNeighborsClassifier(), \n",
    "    LogisticRegression()\n",
    "]\n",
    "\n",
    "for m in models: \n",
    "    m.fit(X_train, y_train)\n",
    "    name = m.__class__.__name__\n",
    "    y_pred = m.predict(X_test)\n",
    "    acc = accuracy_score(y_test, y_pred)\n",
    "    print(\"Accuracy of {}: {}\".format(name, acc))\n",
    "\n",
    "    cm = confusion_matrix(y_test, y_pred)\n",
    "    plt.figure(figsize=(14,10))\n",
    "    sns.heatmap(cm, cmap='Blues', linecolor='black', linewidth=1, annot=True, fmt='', xticklabels=['Heart Not Failed\"', 'Heart Fail'], yticklabels=['Heart Not Failed\"', 'Heart Fail'])\n",
    "    plt.xlabel(\"Predicted\")\n",
    "    plt.ylabel(\"Actual\")\n",
    "    plt.show() \n",
    "    "
   ]
  },
  {
   "cell_type": "code",
   "execution_count": null,
   "id": "afraid-expense",
   "metadata": {},
   "outputs": [],
   "source": [
    "'''\n",
    "Inspiration\n",
    "1. https://www.kaggle.com/nayansakhiya/heart-fail-analysis-and-quick-prediction\n",
    "'''"
   ]
  }
 ],
 "metadata": {
  "kernelspec": {
   "display_name": "Python 3",
   "language": "python",
   "name": "python3"
  },
  "language_info": {
   "codemirror_mode": {
    "name": "ipython",
    "version": 3
   },
   "file_extension": ".py",
   "mimetype": "text/x-python",
   "name": "python",
   "nbconvert_exporter": "python",
   "pygments_lexer": "ipython3",
   "version": "3.6.13"
  }
 },
 "nbformat": 4,
 "nbformat_minor": 5
}
