{
 "cells": [
  {
   "cell_type": "markdown",
   "id": "geographic-quick",
   "metadata": {},
   "source": [
    "# DNA Sequencing"
   ]
  },
  {
   "cell_type": "markdown",
   "id": "embedded-budget",
   "metadata": {},
   "source": [
    "### Load Dataset"
   ]
  },
  {
   "cell_type": "code",
   "execution_count": null,
   "id": "deluxe-daughter",
   "metadata": {},
   "outputs": [],
   "source": [
    "import pandas as pd\n",
    "import numpy as np\n",
    "import matplotlib.pyplot as plt\n",
    "%matplotlib inline\n",
    "import seaborn as sns\n",
    "\n",
    "from sklearn.feature_extraction.text import CountVectorizer\n",
    "from sklearn.model_selection import train_test_split\n",
    "\n",
    "from sklearn.linear_model import LogisticRegression\n",
    "from sklearn.ensemble import RandomForestClassifier\n",
    "from sklearn.neighbors import KNeighborsClassifier\n",
    "from sklearn.naive_bayes import MultinomialNB\n",
    "from sklearn.metrics import confusion_matrix, accuracy_score, classification_report"
   ]
  },
  {
   "cell_type": "code",
   "execution_count": null,
   "id": "honest-freedom",
   "metadata": {},
   "outputs": [],
   "source": [
    "df = pd.read_table(\"human.txt\")\n",
    "df.head()"
   ]
  },
  {
   "cell_type": "code",
   "execution_count": null,
   "id": "otherwise-delay",
   "metadata": {},
   "outputs": [],
   "source": [
    "df.info()"
   ]
  },
  {
   "cell_type": "code",
   "execution_count": null,
   "id": "genuine-conflict",
   "metadata": {},
   "outputs": [],
   "source": [
    "df.isnull().sum()"
   ]
  },
  {
   "cell_type": "markdown",
   "id": "brutal-albany",
   "metadata": {},
   "source": [
    "### Visualization"
   ]
  },
  {
   "cell_type": "code",
   "execution_count": null,
   "id": "arctic-walker",
   "metadata": {},
   "outputs": [],
   "source": [
    "gene_family = ['G protein coupled receptors', 'Tyrosine kinase', 'Tyrosine phosphatase', 'Synthetase', 'Synthase', 'Ion channel', 'Transcription factor']\n",
    "\n",
    "counts = {}\n",
    "for key, value in df['class'].value_counts().to_dict().items():\n",
    "    counts[gene_family[key]] = value\n",
    "print(counts)"
   ]
  },
  {
   "cell_type": "code",
   "execution_count": null,
   "id": "historic-newton",
   "metadata": {},
   "outputs": [],
   "source": [
    "sns.countplot(df['class'], label='Count') "
   ]
  },
  {
   "cell_type": "code",
   "execution_count": null,
   "id": "surface-secondary",
   "metadata": {},
   "outputs": [],
   "source": [
    "sns.countplot(df['sequence'].value_counts(), label='Count') "
   ]
  },
  {
   "cell_type": "markdown",
   "id": "revolutionary-serve",
   "metadata": {},
   "source": [
    "### Preprocess"
   ]
  },
  {
   "cell_type": "code",
   "execution_count": null,
   "id": "frank-ecology",
   "metadata": {},
   "outputs": [],
   "source": [
    "def k_mer_counting(sequence, size=6):\n",
    "    return [sequence[x:x+size].lower() for x in range(len(sequence) - size + 1)]"
   ]
  },
  {
   "cell_type": "code",
   "execution_count": null,
   "id": "mature-gardening",
   "metadata": {},
   "outputs": [],
   "source": [
    "df['k_mer_sequence'] = df.apply(lambda x: k_mer_counting(x['sequence']), axis=1)\n",
    "df = df.drop(['sequence'], axis=1)"
   ]
  },
  {
   "cell_type": "code",
   "execution_count": null,
   "id": "dangerous-spray",
   "metadata": {},
   "outputs": [],
   "source": [
    "df.head()"
   ]
  },
  {
   "cell_type": "code",
   "execution_count": null,
   "id": "collectible-staff",
   "metadata": {},
   "outputs": [],
   "source": [
    "X = list(df['k_mer_sequence'].values)\n",
    "X = [' '.join(i) for i in X]\n",
    "X = np.array(X)\n",
    "\n",
    "y = df['class']"
   ]
  },
  {
   "cell_type": "code",
   "execution_count": null,
   "id": "handy-collect",
   "metadata": {},
   "outputs": [],
   "source": [
    "cv = CountVectorizer(ngram_range=(4,4))\n",
    "X = cv.fit_transform(X)"
   ]
  },
  {
   "cell_type": "code",
   "execution_count": null,
   "id": "minus-alcohol",
   "metadata": {},
   "outputs": [],
   "source": [
    "X_train, X_test, y_train, y_test = train_test_split(X, y, test_size=0.20, random_state=42)"
   ]
  },
  {
   "cell_type": "markdown",
   "id": "registered-facial",
   "metadata": {},
   "source": [
    "### Models Training + Evaluation"
   ]
  },
  {
   "cell_type": "code",
   "execution_count": null,
   "id": "careful-moore",
   "metadata": {},
   "outputs": [],
   "source": [
    "models = [\n",
    "    KNeighborsClassifier(), \n",
    "    RandomForestClassifier(),\n",
    "    LogisticRegression(multi_class='multinomial'),\n",
    "    MultinomialNB(alpha=0.1)\n",
    "]\n",
    "\n",
    "for m in models: \n",
    "    m.fit(X_train, y_train)\n",
    "    name = m.__class__.__name__\n",
    "    y_pred = m.predict(X_test)\n",
    "    acc = accuracy_score(y_test, y_pred)\n",
    "    print(\"Accuracy of {}: {}\".format(name, acc))\n",
    "    print(classification_report(y_test, y_pred))\n",
    "    \n",
    "    cm = confusion_matrix(y_test, y_pred)\n",
    "    plt.figure(figsize=(14,10))\n",
    "    sns.heatmap(cm, cmap='Blues', linecolor='black', linewidth=1, annot=True, fmt='')\n",
    "    plt.xlabel(\"Predicted\")\n",
    "    plt.ylabel(\"Actual\")\n",
    "    plt.show()"
   ]
  },
  {
   "cell_type": "code",
   "execution_count": null,
   "id": "pointed-proposition",
   "metadata": {},
   "outputs": [],
   "source": [
    "'''\n",
    "Inspiration\n",
    "1. https://github.com/krishnaik06/DNA-Sequencing-Classifier\n",
    "'''"
   ]
  }
 ],
 "metadata": {
  "kernelspec": {
   "display_name": "Python 3",
   "language": "python",
   "name": "python3"
  },
  "language_info": {
   "codemirror_mode": {
    "name": "ipython",
    "version": 3
   },
   "file_extension": ".py",
   "mimetype": "text/x-python",
   "name": "python",
   "nbconvert_exporter": "python",
   "pygments_lexer": "ipython3",
   "version": "3.6.13"
  }
 },
 "nbformat": 4,
 "nbformat_minor": 5
}
