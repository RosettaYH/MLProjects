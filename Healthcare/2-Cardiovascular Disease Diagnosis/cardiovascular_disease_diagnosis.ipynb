{
 "cells": [
  {
   "cell_type": "markdown",
   "id": "declared-packing",
   "metadata": {},
   "source": [
    "# Cardiovascular Disease Diagnosis"
   ]
  },
  {
   "cell_type": "markdown",
   "id": "systematic-northwest",
   "metadata": {},
   "source": [
    "### Load Dataset\n"
   ]
  },
  {
   "cell_type": "code",
   "execution_count": null,
   "id": "underlying-plaza",
   "metadata": {},
   "outputs": [],
   "source": [
    "import pandas as pd\n",
    "import numpy as np\n",
    "import matplotlib.pyplot as plt\n",
    "%matplotlib inline\n",
    "import seaborn as sns\n",
    "\n",
    "from sklearn.preprocessing import StandardScaler\n",
    "from sklearn.model_selection import train_test_split\n",
    "from sklearn.ensemble import RandomForestClassifier\n",
    "from sklearn.metrics import confusion_matrix"
   ]
  },
  {
   "cell_type": "code",
   "execution_count": null,
   "id": "metallic-london",
   "metadata": {},
   "outputs": [],
   "source": [
    "df = pd.read_csv(\"cardio_train.csv\", delimiter=';')\n",
    "df.head()"
   ]
  },
  {
   "cell_type": "code",
   "execution_count": null,
   "id": "american-sierra",
   "metadata": {},
   "outputs": [],
   "source": [
    "df.shape"
   ]
  },
  {
   "cell_type": "code",
   "execution_count": null,
   "id": "fitting-trick",
   "metadata": {},
   "outputs": [],
   "source": [
    "df.describe()"
   ]
  },
  {
   "cell_type": "markdown",
   "id": "charitable-minutes",
   "metadata": {},
   "source": [
    "### Visualization"
   ]
  },
  {
   "cell_type": "code",
   "execution_count": null,
   "id": "extra-scott",
   "metadata": {},
   "outputs": [],
   "source": [
    "df['cardio'].value_counts()"
   ]
  },
  {
   "cell_type": "code",
   "execution_count": null,
   "id": "honey-triangle",
   "metadata": {},
   "outputs": [],
   "source": [
    "df['years'] = (df['age'] / 365).round(0) \n",
    "df['years'] = pd.to_numeric(df['years'], downcast='integer')"
   ]
  },
  {
   "cell_type": "code",
   "execution_count": null,
   "id": "infrared-eligibility",
   "metadata": {},
   "outputs": [],
   "source": [
    "plt.figure(figsize=(16,12))\n",
    "sns.countplot(x='years', hue='cardio', data=df)"
   ]
  },
  {
   "cell_type": "code",
   "execution_count": null,
   "id": "adaptive-smell",
   "metadata": {},
   "outputs": [],
   "source": [
    "plt.figure(figsize=(16,12))\n",
    "sns.heatmap(df.corr(), annot=True, fmt= '.2f')"
   ]
  },
  {
   "cell_type": "markdown",
   "id": "looking-louis",
   "metadata": {},
   "source": [
    "### Preprocess"
   ]
  },
  {
   "cell_type": "code",
   "execution_count": null,
   "id": "diverse-chuck",
   "metadata": {},
   "outputs": [],
   "source": [
    "df = df.drop(['id', 'age'], axis=1)"
   ]
  },
  {
   "cell_type": "code",
   "execution_count": null,
   "id": "corporate-facial",
   "metadata": {},
   "outputs": [],
   "source": [
    "X = df.drop(['cardio'], axis=1)\n",
    "y = df['cardio']\n",
    "X_train, X_test, y_train, y_test = train_test_split(X, y, test_size=0.20, random_state=2)"
   ]
  },
  {
   "cell_type": "code",
   "execution_count": null,
   "id": "ordered-pollution",
   "metadata": {},
   "outputs": [],
   "source": [
    "sc = StandardScaler()\n",
    "X_train = sc.fit_transform(X_train)\n",
    "X_test = sc.transform(X_test)"
   ]
  },
  {
   "cell_type": "markdown",
   "id": "small-manufacturer",
   "metadata": {},
   "source": [
    "### Training"
   ]
  },
  {
   "cell_type": "code",
   "execution_count": null,
   "id": "changing-logic",
   "metadata": {},
   "outputs": [],
   "source": [
    "model = RandomForestClassifier(n_estimators=10, criterion='entropy', random_state=1)\n",
    "model.fit(X_train, y_train)"
   ]
  },
  {
   "cell_type": "markdown",
   "id": "split-newcastle",
   "metadata": {},
   "source": [
    "### Evaluation"
   ]
  },
  {
   "cell_type": "code",
   "execution_count": null,
   "id": "forbidden-daniel",
   "metadata": {},
   "outputs": [],
   "source": [
    "model.score(X_test, y_test)"
   ]
  },
  {
   "cell_type": "code",
   "execution_count": null,
   "id": "treated-responsibility",
   "metadata": {},
   "outputs": [],
   "source": [
    "cm = confusion_matrix(y_test, model.predict(X_test))\n",
    "TN = cm[0][0]\n",
    "TP = cm[1][1]\n",
    "FN = cm[1][0]\n",
    "FP = cm[0][1]"
   ]
  },
  {
   "cell_type": "code",
   "execution_count": null,
   "id": "modern-freedom",
   "metadata": {},
   "outputs": [],
   "source": [
    "sen = TP / (TP + FN)\n",
    "spec = TN / (FP + TN)\n",
    "ppv = TP / (TP + FP)\n",
    "npv = TN / (TN + FN)\n",
    "\n",
    "print(\"sensitivity: \", sen)\n",
    "print(\"specificity: \", spec)\n",
    "print(\"positive predictive value: \", ppv)\n",
    "print(\"negative predictive value: \", npv)"
   ]
  },
  {
   "cell_type": "code",
   "execution_count": null,
   "id": "unlimited-republican",
   "metadata": {},
   "outputs": [],
   "source": [
    "'''\n",
    "Inspiration\n",
    "1. https://www.youtube.com/watch?v=kySc5Wg1Gxw\n",
    "'''"
   ]
  }
 ],
 "metadata": {
  "kernelspec": {
   "display_name": "Python 3",
   "language": "python",
   "name": "python3"
  },
  "language_info": {
   "codemirror_mode": {
    "name": "ipython",
    "version": 3
   },
   "file_extension": ".py",
   "mimetype": "text/x-python",
   "name": "python",
   "nbconvert_exporter": "python",
   "pygments_lexer": "ipython3",
   "version": "3.6.13"
  }
 },
 "nbformat": 4,
 "nbformat_minor": 5
}
